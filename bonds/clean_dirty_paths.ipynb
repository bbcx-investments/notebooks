{
  "nbformat": 4,
  "nbformat_minor": 0,
  "metadata": {
    "colab": {
      "name": "Untitled0.ipynb",
      "provenance": [],
      "authorship_tag": "ABX9TyO9s7i+yRX/ZtyiwNelpHpr",
      "include_colab_link": true
    },
    "kernelspec": {
      "name": "python3",
      "display_name": "Python 3"
    },
    "language_info": {
      "name": "python"
    }
  },
  "cells": [
    {
      "cell_type": "markdown",
      "metadata": {
        "id": "view-in-github",
        "colab_type": "text"
      },
      "source": [
        "<a href=\"https://colab.research.google.com/github/bbcx-investments/notebooks/blob/main/bonds/clean_dirty_paths.ipynb\" target=\"_parent\"><img src=\"https://colab.research.google.com/assets/colab-badge.svg\" alt=\"Open In Colab\"/></a>"
      ]
    },
    {
      "cell_type": "code",
      "execution_count": 5,
      "metadata": {
        "id": "Bc790_R-SR0L"
      },
      "outputs": [],
      "source": [
        "import numpy as np\n",
        "import matplotlib.pyplot as plt\n",
        "\n",
        "class bond():\n",
        "    def __init__(self,coupon_rate, coupons_remaining, days_to_next=180) :\n",
        "        self.coupon = 100*coupon_rate/2\n",
        "        self.n = coupons_remaining\n",
        "        self.days = int((coupons_remaining-1)*180 + days_to_next)\n",
        "        self.days_to_next = days_to_next\n",
        "    def days_remaining(self, day) :\n",
        "        return self.days - day\n",
        "    def coupons_remaining(self, day):\n",
        "        return int(np.ceil((self.days_remaining(day))/180))\n",
        "    def fp(self, day):\n",
        "        x = 180 - self.days_remaining(day)%180\n",
        "        return x/180 if x<180 else 0\n",
        "    def accrued(self, day) :\n",
        "        return self.coupon * self.fp(day)\n",
        "    def dirty(self, day, yld) :\n",
        "        periods = 1 - self.fp(day) + np.arange(self.coupons_remaining(day))\n",
        "        pvFactors = 1 / (1+yld/2)**periods\n",
        "        cashFlows = [self.coupon]*(self.coupons_remaining(day)-1) + [100+self.coupon]\n",
        "        return np.sum(pvFactors*cashFlows)\n",
        "    def clean(self, day, yld) :\n",
        "        return self.dirty(day,yld) - self.accrued(day)"
      ]
    },
    {
      "cell_type": "code",
      "source": [
        "# Example\n",
        "face_value = 100\n",
        "coupon_rate = 0.025      # annual coupon rate\n",
        "coupons_remaining = 20\n",
        "days_to_next_coupon = 60\n",
        "yld = 0.06          # bond yield\n",
        "\n",
        "b = bond(coupon_rate, coupons_remaining, days_to_next_coupon)\n",
        "\n",
        "# clean price\n",
        "print('The clean price for this bond is', b.clean(0,yld).round(2))"
      ],
      "metadata": {
        "colab": {
          "base_uri": "https://localhost:8080/"
        },
        "id": "RqjE7c9oTQ7o",
        "outputId": "5c3bd901-3ec0-4c4b-93b5-d6cd9283cba6"
      },
      "execution_count": 6,
      "outputs": [
        {
          "output_type": "stream",
          "name": "stdout",
          "text": [
            "The clean price for this bond is 74.6\n"
          ]
        }
      ]
    },
    {
      "cell_type": "code",
      "source": [
        "# dirty price\n",
        "print('The dirty price for this bond is', b.dirty(0,yld).round(2))"
      ],
      "metadata": {
        "colab": {
          "base_uri": "https://localhost:8080/"
        },
        "id": "cV8OoHLdTTsv",
        "outputId": "4e7781bb-530a-4151-87ee-6378d495b6c5"
      },
      "execution_count": 7,
      "outputs": [
        {
          "output_type": "stream",
          "name": "stdout",
          "text": [
            "The dirty price for this bond is 75.44\n"
          ]
        }
      ]
    },
    {
      "cell_type": "code",
      "source": [
        "# plot\n",
        "days = [i for i in range(b.days)]\n",
        "clean = [b.clean(d,0.1) for d in days]\n",
        "dirty = [b.dirty(d,0.1) for d in days]\n",
        "plt.hlines(face_value, 0, days[-1], label = 'face value', linestyles='dotted')\n",
        "plt.plot(days,clean, label = 'clean price')\n",
        "plt.plot(days,dirty, label = 'dirty price')\n",
        "plt.legend(loc = 4)\n",
        "plt.show()"
      ],
      "metadata": {
        "colab": {
          "base_uri": "https://localhost:8080/",
          "height": 265
        },
        "id": "ssyDD9x-TVjg",
        "outputId": "6dcc9a62-0404-49b8-99bd-9282303ced71"
      },
      "execution_count": 8,
      "outputs": [
        {
          "output_type": "display_data",
          "data": {
            "text/plain": [
              "<Figure size 432x288 with 1 Axes>"
            ],
            "image/png": "[encoded data removed]"
          },
          "metadata": {
            "needs_background": "light"
          }
        }
      ]
    },
    {
      "cell_type": "code",
      "source": [
        ""
      ],
      "metadata": {
        "id": "qduDXp1KTXOQ"
      },
      "execution_count": null,
      "outputs": []
    }
  ]
}