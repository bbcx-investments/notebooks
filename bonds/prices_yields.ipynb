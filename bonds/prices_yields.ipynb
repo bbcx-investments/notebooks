{
  "cells": [
    {
      "cell_type": "markdown",
      "metadata": {
        "id": "view-in-github",
        "colab_type": "text"
      },
      "source": [
        "<a href=\"https://colab.research.google.com/github/bbcx-investments/notebooks/blob/main/bonds/prices_yields.ipynb\" target=\"_parent\"><img src=\"https://colab.research.google.com/assets/colab-badge.svg\" alt=\"Open In Colab\"/></a>"
      ]
    },
    {
      "cell_type": "code",
      "execution_count": null,
      "outputs": [],
      "source": [
        "import numpy_financial as npf"
      ],
      "metadata": {
        "pycharm": {
          "name": "#%%\n"
        },
        "id": "Owu936RfIo6Q"
      }
    },
    {
      "cell_type": "code",
      "execution_count": null,
      "outputs": [],
      "source": [
        "# example data\n",
        "maturity = 10       # 10 years maturity\n",
        "coupon_rate = 0.05\n",
        "price = 90        # bond is trading at $120 per $100 face value"
      ],
      "metadata": {
        "pycharm": {
          "name": "#%%\n"
        },
        "id": "uPYB3cgkIo6S"
      }
    },
    {
      "cell_type": "code",
      "execution_count": null,
      "outputs": [
        {
          "data": {
            "text/plain": "[-90,\n 0.025,\n 0.025,\n 0.025,\n 0.025,\n 0.025,\n 0.025,\n 0.025,\n 0.025,\n 0.025,\n 0.025,\n 0.025,\n 0.025,\n 0.025,\n 0.025,\n 0.025,\n 0.025,\n 0.025,\n 0.025,\n 0.025,\n 100.025]"
          },
          "execution_count": 33,
          "metadata": {},
          "output_type": "execute_result"
        }
      ],
      "source": [
        "# coupon pays twice a year\n",
        "n = maturity * 2\n",
        "coupon = coupon_rate / 2  # coupon in $\n",
        "cashFlows = [-price] + [coupon] * n\n",
        "cashFlows[-1] += 100\n",
        "cashFlows"
      ],
      "metadata": {
        "pycharm": {
          "name": "#%%\n"
        },
        "id": "N6uZPNO9Io6T",
        "outputId": "d33e0fa8-f0d3-4d81-a09f-b010555cbf4d"
      }
    },
    {
      "cell_type": "code",
      "execution_count": null,
      "outputs": [
        {
          "data": {
            "text/plain": "0.011092556998886227"
          },
          "execution_count": 34,
          "metadata": {},
          "output_type": "execute_result"
        }
      ],
      "source": [
        "# Computing the yield of a bond using numpy_financial package\n",
        "yld = 2 * npf.irr(cashFlows)  # double the semi-annual yield\n",
        "yld"
      ],
      "metadata": {
        "pycharm": {
          "name": "#%%\n"
        },
        "id": "RuMIYKf3Io6U",
        "outputId": "93e80e12-ef40-44ad-d142-367447b2981a"
      }
    },
    {
      "cell_type": "code",
      "execution_count": null,
      "outputs": [
        {
          "data": {
            "text/plain": "[-90.0,\n 0.024862107825914297,\n 0.024724976221895557,\n 0.024588600992877373,\n 0.02445297796693202,\n 0.024318102995142817,\n 0.024183971951477205,\n 0.02405058073266053,\n 0.023917925258050515,\n 0.023786001469512437,\n 0.023654805331294965,\n 0.023524332829906708,\n 0.023394579973993447,\n 0.023265542794216013,\n 0.023137217343128874,\n 0.023009599695059373,\n 0.022882685945987635,\n 0.02275647221342713,\n 0.02263095463630591,\n 0.022506129374848506,\n 89.55035243444415]"
          },
          "execution_count": 35,
          "metadata": {},
          "output_type": "execute_result"
        }
      ],
      "source": [
        "# present value of the cash flow\n",
        "PV_cashFlows = []\n",
        "for i in range(len(cashFlows)):\n",
        "    PV_cashFlows.append((1 / (1+yld/2)**i) * cashFlows[i])\n",
        "PV_cashFlows"
      ],
      "metadata": {
        "pycharm": {
          "name": "#%%\n"
        },
        "id": "yKTpnazmIo6V",
        "outputId": "d8c45d25-4089-49cc-b237-159912a12795"
      }
    },
    {
      "cell_type": "code",
      "execution_count": null,
      "outputs": [
        {
          "data": {
            "text/plain": "89.99999999999679"
          },
          "execution_count": 36,
          "metadata": {},
          "output_type": "execute_result"
        }
      ],
      "source": [
        "# the sum of the PV of future payments is equal to price of the bond\n",
        "sum(PV_cashFlows[1:])"
      ],
      "metadata": {
        "pycharm": {
          "name": "#%%\n"
        },
        "id": "A1btxp2VIo6V",
        "outputId": "353ad15d-37e5-4eca-b1e5-28e44ced44e9"
      }
    },
    {
      "cell_type": "code",
      "execution_count": null,
      "outputs": [],
      "source": [
        ""
      ],
      "metadata": {
        "pycharm": {
          "name": "#%%\n"
        },
        "id": "VGVD9jYnIo6W"
      }
    }
  ],
  "metadata": {
    "kernelspec": {
      "display_name": "Python 3",
      "language": "python",
      "name": "python3"
    },
    "language_info": {
      "codemirror_mode": {
        "name": "ipython",
        "version": 2
      },
      "file_extension": ".py",
      "mimetype": "text/x-python",
      "name": "python",
      "nbconvert_exporter": "python",
      "pygments_lexer": "ipython2",
      "version": "2.7.6"
    },
    "colab": {
      "name": "prices_yields.ipynb",
      "provenance": [],
      "include_colab_link": true
    }
  },
  "nbformat": 4,
  "nbformat_minor": 0
}