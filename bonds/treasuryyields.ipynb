{
 "cells": [
  {
   "cell_type": "code",
   "execution_count": 2,
   "id": "f3fdaaed",
   "metadata": {},
   "outputs": [
    {
     "data": {
      "text/html": [
       "<div><div id=0358dbdb-c027-4ed4-9ed5-82bfff4dbb38 style=\"display:none; background-color:#9D6CFF; color:white; width:200px; height:30px; padding-left:5px; border-radius:4px; flex-direction:row; justify-content:space-around; align-items:center;\" onmouseover=\"this.style.backgroundColor='#BA9BF8'\" onmouseout=\"this.style.backgroundColor='#9D6CFF'\" onclick=\"window.commands?.execute('create-mitosheet-from-dataframe-output');\">See Full Dataframe in Mito</div> <script> if (window.commands.hasCommand('create-mitosheet-from-dataframe-output')) document.getElementById('0358dbdb-c027-4ed4-9ed5-82bfff4dbb38').style.display = 'flex' </script> <table border=\"1\" class=\"dataframe\">\n",
       "  <thead>\n",
       "    <tr style=\"text-align: right;\">\n",
       "      <th></th>\n",
       "      <th>1</th>\n",
       "      <th>5</th>\n",
       "      <th>10</th>\n",
       "      <th>20</th>\n",
       "    </tr>\n",
       "    <tr>\n",
       "      <th>date</th>\n",
       "      <th></th>\n",
       "      <th></th>\n",
       "      <th></th>\n",
       "      <th></th>\n",
       "    </tr>\n",
       "  </thead>\n",
       "  <tbody>\n",
       "    <tr>\n",
       "      <th>1962-01-02</th>\n",
       "      <td>3.22</td>\n",
       "      <td>3.88</td>\n",
       "      <td>4.06</td>\n",
       "      <td>4.07</td>\n",
       "    </tr>\n",
       "    <tr>\n",
       "      <th>1962-01-03</th>\n",
       "      <td>3.24</td>\n",
       "      <td>3.87</td>\n",
       "      <td>4.03</td>\n",
       "      <td>4.07</td>\n",
       "    </tr>\n",
       "    <tr>\n",
       "      <th>1962-01-04</th>\n",
       "      <td>3.24</td>\n",
       "      <td>3.86</td>\n",
       "      <td>3.99</td>\n",
       "      <td>4.06</td>\n",
       "    </tr>\n",
       "    <tr>\n",
       "      <th>1962-01-05</th>\n",
       "      <td>3.26</td>\n",
       "      <td>3.89</td>\n",
       "      <td>4.02</td>\n",
       "      <td>4.07</td>\n",
       "    </tr>\n",
       "    <tr>\n",
       "      <th>1962-01-08</th>\n",
       "      <td>3.31</td>\n",
       "      <td>3.91</td>\n",
       "      <td>4.03</td>\n",
       "      <td>4.08</td>\n",
       "    </tr>\n",
       "  </tbody>\n",
       "</table></div>"
      ],
      "text/plain": [
       "              1     5     10    20\n",
       "date                              \n",
       "1962-01-02  3.22  3.88  4.06  4.07\n",
       "1962-01-03  3.24  3.87  4.03  4.07\n",
       "1962-01-04  3.24  3.86  3.99  4.06\n",
       "1962-01-05  3.26  3.89  4.02  4.07\n",
       "1962-01-08  3.31  3.91  4.03  4.08"
      ]
     },
     "execution_count": 2,
     "metadata": {},
     "output_type": "execute_result"
    }
   ],
   "source": [
    "import pandas as pd\n",
    "import numpy as np\n",
    "try :\n",
    "    from pandas_datareader import DataReader as pdr\n",
    "except :\n",
    "    !pip install pandas-datareader\n",
    "    from pandas_datareader import DataReader as pdr\n",
    "\n",
    "files = ['DGS'+x for x in ['1','5','10','20']]\n",
    "\n",
    "df = None\n",
    "for f in files :\n",
    "    d = pdr(f,'fred',start=1920)\n",
    "    df = pd.concat((df,d),axis=1)\n",
    "df.index.name = 'date'\n",
    "df.columns = [1,5,10,20]\n",
    "df.head()"
   ]
  },
  {
   "cell_type": "code",
   "execution_count": null,
   "id": "99139f5d",
   "metadata": {},
   "outputs": [],
   "source": []
  }
 ],
 "metadata": {
  "kernelspec": {
   "display_name": "Python 3 (ipykernel)",
   "language": "python",
   "name": "python3"
  },
  "language_info": {
   "codemirror_mode": {
    "name": "ipython",
    "version": 3
   },
   "file_extension": ".py",
   "mimetype": "text/x-python",
   "name": "python",
   "nbconvert_exporter": "python",
   "pygments_lexer": "ipython3",
   "version": "3.9.7"
  }
 },
 "nbformat": 4,
 "nbformat_minor": 5
}
