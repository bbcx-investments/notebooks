{
  "cells": [
    {
      "cell_type": "markdown",
      "metadata": {
        "id": "view-in-github",
        "colab_type": "text"
      },
      "source": [
        "<a href=\"https://colab.research.google.com/github/bbcx-investments/notebooks/blob/main/borrowing_saving/amortization.ipynb\" target=\"_parent\"><img src=\"https://colab.research.google.com/assets/colab-badge.svg\" alt=\"Open In Colab\"/></a>"
      ]
    },
    {
      "cell_type": "code",
      "execution_count": null,
      "outputs": [
        {
          "name": "stdout",
          "output_type": "stream",
          "text": [
            "A $200000 15-year loan with interest rate at 5% requires $19,268.46 payment annually.\n"
          ]
        }
      ],
      "source": [
        "import numpy_financial as npf\n",
        "\n",
        "Payment = -npf.pmt(rate=0.05, nper=15, pv=200000, fv=0)\n",
        "print ('A $200000 15-year loan with interest rate at 5% requires', \"${:,.2f}\".format(Payment), 'payment annually.')"
      ],
      "metadata": {
        "pycharm": {
          "name": "#%%\n"
        },
        "id": "WMp3WBXF2Dw2",
        "outputId": "cef8ac70-2686-48c7-8499-d6aa5d4139ab"
      }
    },
    {
      "cell_type": "code",
      "execution_count": null,
      "outputs": [
        {
          "name": "stdout",
          "output_type": "stream",
          "text": [
            "When the interest rate is at 5%, one can borrow $207,593.16 if he/she pays $20000 annually for 15 years.\n"
          ]
        }
      ],
      "source": [
        "Principal = npf.pv(rate=0.05, nper=15, pmt=20000, fv=0)\n",
        "print('When the interest rate is at 5%, one can borrow', \"${:,.2f}\".format(-Principal), 'if he/she pays $20000 annually for 15 years.')"
      ],
      "metadata": {
        "pycharm": {
          "name": "#%%\n"
        },
        "id": "vmi6XQhW2Dw4",
        "outputId": "9cfb4ae7-84d1-418d-8620-c0f66503677c"
      }
    },
    {
      "cell_type": "code",
      "execution_count": null,
      "outputs": [
        {
          "name": "stdout",
          "output_type": "stream",
          "text": [
            "When the interest rate is at 5%, a $200000 15-year loan with 15000 annual payment requires $92,107.18 balloon.\n"
          ]
        }
      ],
      "source": [
        "Balloon = -npf.fv(rate=0.05, nper=15, pv=200000, pmt=-15000)\n",
        "print('When the interest rate is at 5%, a $200000 15-year loan with 15000 annual payment requires', \"${:,.2f}\".format(Balloon), 'balloon.')"
      ],
      "metadata": {
        "pycharm": {
          "name": "#%%\n"
        },
        "id": "paJ_B8gU2Dw5",
        "outputId": "c4ccb5c7-6baf-4fbe-9f21-57a0a2ecb795"
      }
    },
    {
      "cell_type": "code",
      "execution_count": null,
      "outputs": [
        {
          "name": "stdout",
          "output_type": "stream",
          "text": [
            "A $200000 15-year loan requiring $20000 payment annually has a 5.56% interest rate\n"
          ]
        }
      ],
      "source": [
        "Rate = npf.rate(nper=15, pmt=20000, pv=-200000, fv=0)\n",
        "print ('A $200000 15-year loan requiring $20000 payment annually has a', \"{:.2%}\".format(Rate), 'interest rate')"
      ],
      "metadata": {
        "pycharm": {
          "name": "#%%\n"
        },
        "id": "w4wJ1J0Y2Dw5",
        "outputId": "b8ea6f68-ff20-41f6-f666-87b26a1f36a4"
      }
    }
  ],
  "metadata": {
    "kernelspec": {
      "display_name": "Python 3",
      "language": "python",
      "name": "python3"
    },
    "language_info": {
      "codemirror_mode": {
        "name": "ipython",
        "version": 2
      },
      "file_extension": ".py",
      "mimetype": "text/x-python",
      "name": "python",
      "nbconvert_exporter": "python",
      "pygments_lexer": "ipython2",
      "version": "2.7.6"
    },
    "colab": {
      "name": "amortization.ipynb",
      "provenance": [],
      "include_colab_link": true
    }
  },
  "nbformat": 4,
  "nbformat_minor": 0
}