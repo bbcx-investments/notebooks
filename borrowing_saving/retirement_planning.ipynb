{
  "cells": [
    {
      "cell_type": "markdown",
      "metadata": {
        "id": "view-in-github",
        "colab_type": "text"
      },
      "source": [
        "<a href=\"https://colab.research.google.com/github/bbcx-investments/notebooks/blob/main/borrowing_saving/retirement_planning.ipynb\" target=\"_parent\"><img src=\"https://colab.research.google.com/assets/colab-badge.svg\" alt=\"Open In Colab\"/></a>"
      ]
    },
    {
      "cell_type": "code",
      "execution_count": 1,
      "id": "259de60c",
      "metadata": {
        "scrolled": true,
        "id": "259de60c",
        "outputId": "93772ac5-e2b8-4c3b-f295-1ba527eeba63",
        "colab": {
          "base_uri": "https://localhost:8080/"
        }
      },
      "outputs": [
        {
          "output_type": "execute_result",
          "data": {
            "text/plain": [
              "month\n",
              "0      1.000000e+05\n",
              "1      1.015020e+05\n",
              "2      1.030135e+05\n",
              "3      1.045346e+05\n",
              "4      1.060653e+05\n",
              "           ...     \n",
              "716    1.516530e+06\n",
              "717    1.514112e+06\n",
              "718    1.511683e+06\n",
              "719    1.509241e+06\n",
              "720    1.516788e+06\n",
              "Length: 721, dtype: float64"
            ]
          },
          "metadata": {},
          "execution_count": 1
        }
      ],
      "source": [
        "import numpy as np\n",
        "import pandas as pd\n",
        "\n",
        "N = 30*12      # 30 years of saving\n",
        "M = 60*12      # 60 total years, so 30 years of withdrawals too\n",
        "r = 0.005      # earn 1/2 % per month on investments (~6% per year)\n",
        "g = 0.002      # savings each month is 0.2% higher than previous month\n",
        "B0 = 100000    # initial balance is $100,000\n",
        "S0 = 1000      # initial savings is $1,000 (per month)\n",
        "W = 10000      # withdraw $10,000 per month in retirement\n",
        "\n",
        "\n",
        "S = S0 * (1+g)**np.arange(N)\n",
        "B = np.zeros(M+1)\n",
        "B[0] = B0\n",
        "\n",
        "\n",
        "# saving period\n",
        "for i in range(1,N) :\n",
        "    B[i] = (1+r) * B[i-1] + S[i-1]\n",
        "\n",
        "# date N: deposit and withdrawal\n",
        "B[N] = (1+r) * B[N-1] + S[N-1] - W\n",
        "\n",
        "# withdrawal period\n",
        "for i in range(N+1,M) :\n",
        "    B[i] = (1+r) * B[i-1] - W\n",
        "\n",
        "# final period return\n",
        "B[M] = (1+r) * B[M-1]\n",
        "\n",
        "B = pd.Series(B)\n",
        "B.index.name = 'month'\n",
        "B"
      ]
    },
    {
      "cell_type": "code",
      "source": [
        ""
      ],
      "metadata": {
        "id": "wP9pEfkzCBYS"
      },
      "id": "wP9pEfkzCBYS",
      "execution_count": null,
      "outputs": []
    }
  ],
  "metadata": {
    "kernelspec": {
      "display_name": "Python 3 (ipykernel)",
      "language": "python",
      "name": "python3"
    },
    "language_info": {
      "codemirror_mode": {
        "name": "ipython",
        "version": 3
      },
      "file_extension": ".py",
      "mimetype": "text/x-python",
      "name": "python",
      "nbconvert_exporter": "python",
      "pygments_lexer": "ipython3",
      "version": "3.9.7"
    },
    "colab": {
      "name": "retirement_planning.ipynb",
      "provenance": [],
      "include_colab_link": true
    }
  },
  "nbformat": 4,
  "nbformat_minor": 5
}
