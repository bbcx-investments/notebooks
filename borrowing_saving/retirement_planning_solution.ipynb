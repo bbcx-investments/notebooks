{
 "cells": [
  {
   "cell_type": "markdown",
   "source": [
    "<a href=\"https://colab.research.google.com/github/bbcx-investments/notebooks/blob/main/risk/retirement_planning_solution.ipynb\" target=\"_parent\"><img src=\"https://colab.research.google.com/assets/colab-badge.svg\" alt=\"Open In Colab\"/></a>"
   ],
   "metadata": {
    "collapsed": false,
    "pycharm": {
     "name": "#%% md\n"
    }
   }
  },
  {
   "cell_type": "code",
   "execution_count": 1,
   "metadata": {
    "collapsed": true,
    "pycharm": {
     "name": "#%%\n"
    }
   },
   "outputs": [],
   "source": [
    "import numpy as np\n",
    "\n",
    "R = 30*12      # 30 years until retirement\n",
    "T = 60*12      # 60 total years\n",
    "r = 0.005      # earn 1/2 % per month  (~ 6% per year)\n",
    "B0 = 100000    # initial balance is $100,000\n",
    "D1 = 1000      # initial savings is $1,000 (per month)\n",
    "W1 = 10000     # withdraw $10,000 first month in retirement\n",
    "g = 0.002      # deposit is 0.2% larger each month\n",
    "h = 0          # withdrawals are constant"
   ]
  },
  {
   "cell_type": "code",
   "execution_count": 2,
   "outputs": [],
   "source": [
    "x = (1+r)**T\n",
    "\n",
    "grFactors = (1+g)**np.arange(R)\n",
    "fvFactors = (1+r)**np.arange(T-1, T-R-1, -1)\n",
    "y = np.sum(grFactors*fvFactors)\n",
    "\n",
    "grFactors = (1+h)**np.arange(T-R)\n",
    "fvFactors = (1+r)**np.arange(T-R, 0, -1)\n",
    "z = np.sum(grFactors*fvFactors)\n",
    "\n",
    "BT = x*B0 + y*D1 - z*W1"
   ],
   "metadata": {
    "collapsed": false,
    "pycharm": {
     "name": "#%%\n"
    }
   }
  },
  {
   "cell_type": "code",
   "execution_count": 3,
   "outputs": [],
   "source": [
    "# example: solve for D1 to make BT=0\n",
    "D1_solution = (z*W1 - x*B0) / y"
   ],
   "metadata": {
    "collapsed": false,
    "pycharm": {
     "name": "#%%\n"
    }
   }
  },
  {
   "cell_type": "code",
   "execution_count": 4,
   "outputs": [
    {
     "data": {
      "text/plain": "array([0.0005118])"
     },
     "execution_count": 4,
     "metadata": {},
     "output_type": "execute_result"
    }
   ],
   "source": [
    "# example: solve for g to make BT=0\n",
    "y_solution = (z*W1 - x*B0) / D1\n",
    "\n",
    "from scipy.optimize import fsolve\n",
    "def f(g):\n",
    "    grFactors = (1+g)**np.arange(R)\n",
    "    fvFactors = (1+r)**np.arange(T-1, T-R-1, -1)\n",
    "    return y_solution - np.sum(grFactors*fvFactors)\n",
    "\n",
    "fsolve(f, [0.001])"
   ],
   "metadata": {
    "collapsed": false,
    "pycharm": {
     "name": "#%%\n"
    }
   }
  }
 ],
 "metadata": {
  "kernelspec": {
   "display_name": "Python 3",
   "language": "python",
   "name": "python3"
  },
  "language_info": {
   "codemirror_mode": {
    "name": "ipython",
    "version": 2
   },
   "file_extension": ".py",
   "mimetype": "text/x-python",
   "name": "python",
   "nbconvert_exporter": "python",
   "pygments_lexer": "ipython2",
   "version": "2.7.6"
  }
 },
 "nbformat": 4,
 "nbformat_minor": 0
}