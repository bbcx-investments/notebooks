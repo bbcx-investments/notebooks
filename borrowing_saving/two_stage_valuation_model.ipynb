{
  "nbformat": 4,
  "nbformat_minor": 0,
  "metadata": {
    "colab": {
      "name": "two_stage_valuation_model.ipynb",
      "provenance": [],
      "authorship_tag": "ABX9TyPxXEiaJoLqvwhTjdk1pL0g",
      "include_colab_link": true
    },
    "kernelspec": {
      "name": "python3",
      "display_name": "Python 3"
    },
    "language_info": {
      "name": "python"
    }
  },
  "cells": [
    {
      "cell_type": "markdown",
      "metadata": {
        "id": "view-in-github",
        "colab_type": "text"
      },
      "source": [
        "<a href=\"https://colab.research.google.com/github/bbcx-investments/notebooks/blob/main/borrowing_saving/two_stage_valuation_model.ipynb\" target=\"_parent\"><img src=\"https://colab.research.google.com/assets/colab-badge.svg\" alt=\"Open In Colab\"/></a>"
      ]
    },
    {
      "cell_type": "code",
      "execution_count": 5,
      "metadata": {
        "colab": {
          "base_uri": "https://localhost:8080/"
        },
        "id": "Y_-KufPwYm89",
        "outputId": "230c6752-84e6-4108-d6f9-b93d39579ead"
      },
      "outputs": [
        {
          "output_type": "stream",
          "name": "stdout",
          "text": [
            "PV of first-stage cash flows is 90.91\n"
          ]
        }
      ],
      "source": [
        "import numpy as np\n",
        "\n",
        "# Example data\n",
        "num = 5     # number of periods in first stage\n",
        "g = 0.04    # second-stage growth rate\n",
        "r = 0.1     # discount rate\n",
        "\n",
        "# Assume that the first cash flow occurs at date 1.\n",
        "cashFlows = np.array([100, 0, 0, 0, 0]) # Cash flows in stage 1\n",
        "\n",
        "# PV of first-stage cash flows\n",
        "pv1 = np.sum(cashFlows / (1+r)**np.arange(1,num+1))\n",
        "print(\"PV of first-stage cash flows is\", pv1.round(2))"
      ]
    },
    {
      "cell_type": "code",
      "source": [
        "# Terminal value is the value of the second-stage cash flows discounted to date 5\n",
        "tv = (1+g) * cashFlows[-1] / (r-g)\n",
        "print(\"The terminal value is\", tv.round(2))"
      ],
      "metadata": {
        "colab": {
          "base_uri": "https://localhost:8080/"
        },
        "id": "PmxAYm9LYv2G",
        "outputId": "5541ffc0-a27c-4255-b1a0-caa373872046"
      },
      "execution_count": 6,
      "outputs": [
        {
          "output_type": "stream",
          "name": "stdout",
          "text": [
            "The terminal value is 0.0\n"
          ]
        }
      ]
    },
    {
      "cell_type": "code",
      "source": [
        "# PV of terminal value\n",
        "pv2 = tv / (1+r)**num\n",
        "print(\"PV of the terminal value is\", pv2.round(2))"
      ],
      "metadata": {
        "colab": {
          "base_uri": "https://localhost:8080/"
        },
        "id": "B3amUdWZY0QT",
        "outputId": "0035ecd2-e652-4211-e372-7ec545d8983b"
      },
      "execution_count": 7,
      "outputs": [
        {
          "output_type": "stream",
          "name": "stdout",
          "text": [
            "PV of the terminal value is 0.0\n"
          ]
        }
      ]
    },
    {
      "cell_type": "code",
      "source": [
        "# Total present value\n",
        "npv = pv1 + pv2\n",
        "print(\"Total present value is\", npv.round(2))"
      ],
      "metadata": {
        "colab": {
          "base_uri": "https://localhost:8080/"
        },
        "id": "FNszv8yKY1gY",
        "outputId": "1d57901b-e215-49c2-e62b-fdc095d75624"
      },
      "execution_count": 8,
      "outputs": [
        {
          "output_type": "stream",
          "name": "stdout",
          "text": [
            "Total present value is 90.91\n"
          ]
        }
      ]
    },
    {
      "cell_type": "code",
      "source": [
        ""
      ],
      "metadata": {
        "id": "-3H53FyuY2sn"
      },
      "execution_count": null,
      "outputs": []
    }
  ]
}