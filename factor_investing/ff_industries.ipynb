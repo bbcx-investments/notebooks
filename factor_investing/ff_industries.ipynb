{
  "cells": [
    {
      "cell_type": "markdown",
      "metadata": {
        "id": "view-in-github",
        "colab_type": "text"
      },
      "source": [
        "<a href=\"https://colab.research.google.com/github/bbcx-investments/notebooks/blob/main/factor_investing/ff_industries.ipynb\" target=\"_parent\"><img src=\"https://colab.research.google.com/assets/colab-badge.svg\" alt=\"Open In Colab\"/></a>"
      ]
    },
    {
      "cell_type": "code",
      "execution_count": null,
      "outputs": [],
      "source": [
        "import pandas as pd\n",
        "import statsmodels.api as sm\n",
        "from pandas_datareader import DataReader as pdr\n",
        "\n",
        "\n",
        "d = dict(\n",
        "    Agric=\"Agriculture\",\n",
        "    Food=\"Food Products\",\n",
        "    Soda=\"Candy & Soda\",\n",
        "    Beer=\"Beer & Liquor\",\n",
        "    Smoke=\"Tobacco Products\",\n",
        "    Toys=\"Recreation\",\n",
        "    Fun=\"Entertainment\",\n",
        "    Books=\"Printing & Publishing\",\n",
        "    Hshld=\"Consumer Goods\",\n",
        "    Clths=\"Apparel\",\n",
        "    Hlth=\"Health Care\",\n",
        "    MedEq=\"Medical Equipment\",\n",
        "    Drugs=\"Pharmaceutical Products\",\n",
        "    Chems=\"Chemicals\",\n",
        "    Rubbr=\"Rubber and Plastic Products\",\n",
        "    Txtls=\"Textiles\",\n",
        "    BldMt=\"Construction Materials\",\n",
        "    Cnstr=\"Construction\",\n",
        "    Steel=\"Steel Works Etc\",\n",
        "    FabPr=\"Fabricated Products\",\n",
        "    Mach=\"Machinery\",\n",
        "    ElcEq=\"Electrical Equipment\",\n",
        "    Autos=\"Automobiles & Trucks\",\n",
        "    Aero=\"Aircraft\",\n",
        "    Ships=\"Shipbuilding & Railroad Equipment\",\n",
        "    Guns=\"Defense\",\n",
        "    Gold=\"Precious Metals\",\n",
        "    Mines=\"Non-Metallic & Industrial Metal Mining\",\n",
        "    Coal=\"Coal\",\n",
        "    Oil=\"Petroleum & Natural Gas\",\n",
        "    Util=\"Utilities\",\n",
        "    Telcm=\"Communication\",\n",
        "    PerSv=\"Personal Services\",\n",
        "    BusSv=\"Business Services\",\n",
        "    Comps=\"Computers\",\n",
        "    Chips=\"Electronic Equipment\",\n",
        "    LabEq=\"Measuring & Control Equipment\",\n",
        "    Paper=\"Business Supplies\",\n",
        "    Boxes=\"Shipping Containers\",\n",
        "    Trans=\"Transportation\",\n",
        "    Whlsl=\"Wholesale\",\n",
        "    Rtail=\"Retail\",\n",
        "    Meals=\"Restaurants, Hotels, & Motels\",\n",
        "    Banks=\"Banking\",\n",
        "    Insur=\"Insurance\",\n",
        "    RlEst=\"Real Estate\",\n",
        "    Fin=\"Trading\",\n",
        "    Other=\"Almost Nothing\",\n",
        ")\n",
        "\n",
        "ff = pdr('F-F_Research_Data_5_Factors_2x3','famafrench', start=1900)[0]/100\n",
        "df = pdr(\"48_Industry_Portfolios\", \"famafrench\", start=1900)[0]/100\n",
        "\n",
        "\n",
        "df.columns = [x.strip() for x in df.columns]\n",
        "df = df.rename(columns=d)\n",
        "inds = df.columns.to_list()\n",
        "df = df.join(ff, how=\"inner\")\n",
        "df[inds] = df[inds].subtract(df.RF, axis=\"index\")\n",
        "\n",
        "factors = [\"Mkt-RF\", \"SMB\", \"HML\", \"RMW\", \"CMA\"]\n",
        "\n",
        "d1 = df.loc['1980-01':'2022-01']        # example start and end dates\n",
        "\n",
        "d2 = pd.DataFrame(dtype=float, index=inds, columns=[\"empirical\", \"theoretical\"])\n",
        "d2.index.name = \"industry\"\n",
        "d2[\"empirical\"] = 12 * d1[inds].mean()\n",
        "\n",
        "X = sm.add_constant(d1[factors])\n",
        "\n",
        "def beta(y):\n",
        "    return sm.OLS(y, X).fit().params[1:]\n",
        "\n",
        "betas = d1[inds].apply(beta)\n",
        "fprem = 12 * d1[factors].mean()\n",
        "d2[\"theoretical\"] = fprem @ betas\n",
        "\n",
        "d2 = d2.reset_index()"
      ],
      "metadata": {
        "pycharm": {
          "name": "#%%\n"
        },
        "id": "UTuRKcKIH1bF"
      }
    },
    {
      "cell_type": "code",
      "execution_count": null,
      "outputs": [
        {
          "data": {
            "text/plain": "        Agriculture  Food Products  Candy & Soda  Beer & Liquor  \\\nMkt-RF     0.785571       0.757467      0.877928       0.800135   \nSMB        0.372012      -0.116393     -0.001222      -0.129384   \nHML        0.038793      -0.034253      0.093331      -0.228209   \nRMW        0.210109       0.523576      0.495134       0.598005   \nCMA        0.073141       0.465710      0.387416       0.529289   \n\n        Tobacco Products  Recreation  Entertainment  Printing & Publishing  \\\nMkt-RF          0.848949    1.111235       1.201726               1.105243   \nSMB            -0.141162    0.558205       0.338371               0.318249   \nHML            -0.110735   -0.114897       0.214008               0.259735   \nRMW             0.656214    0.501507      -0.004555               0.321589   \nCMA             0.785946    0.202404      -0.290645               0.097682   \n\n        Consumer Goods   Apparel  ...  Shipping Containers  Transportation  \\\nMkt-RF        0.829866  1.075853  ...             0.971068        1.066317   \nSMB          -0.058276  0.396529  ...             0.063694        0.281758   \nHML          -0.194305  0.190364  ...             0.216879        0.239058   \nRMW           0.474655  0.693757  ...             0.241181        0.482131   \nCMA           0.447645 -0.248297  ...            -0.151256       -0.052511   \n\n        Wholesale    Retail  Restaurants, Hotels, & Motels   Banking  \\\nMkt-RF   1.016107  0.983379                       0.964787  1.138531   \nSMB      0.423220  0.134979                       0.223615 -0.067558   \nHML      0.003988 -0.110267                       0.043392  0.971034   \nRMW      0.408441  0.423956                       0.613887  0.022842   \nCMA      0.150630  0.014541                       0.147493 -0.501811   \n\n        Insurance  Real Estate   Trading  Almost Nothing  \nMkt-RF   1.017765     1.136705  1.192230        1.131484  \nSMB     -0.132121     0.862602 -0.011965        0.066950  \nHML      0.538307     0.639522  0.509843        0.116235  \nRMW      0.173403     0.416530 -0.450094        0.150848  \nCMA     -0.099746    -0.208004 -0.455205        0.113624  \n\n[5 rows x 48 columns]",
            "text/html": "<div>\n<style scoped>\n    .dataframe tbody tr th:only-of-type {\n        vertical-align: middle;\n    }\n\n    .dataframe tbody tr th {\n        vertical-align: top;\n    }\n\n    .dataframe thead th {\n        text-align: right;\n    }\n</style>\n<table border=\"1\" class=\"dataframe\">\n  <thead>\n    <tr style=\"text-align: right;\">\n      <th></th>\n      <th>Agriculture</th>\n      <th>Food Products</th>\n      <th>Candy &amp; Soda</th>\n      <th>Beer &amp; Liquor</th>\n      <th>Tobacco Products</th>\n      <th>Recreation</th>\n      <th>Entertainment</th>\n      <th>Printing &amp; Publishing</th>\n      <th>Consumer Goods</th>\n      <th>Apparel</th>\n      <th>...</th>\n      <th>Shipping Containers</th>\n      <th>Transportation</th>\n      <th>Wholesale</th>\n      <th>Retail</th>\n      <th>Restaurants, Hotels, &amp; Motels</th>\n      <th>Banking</th>\n      <th>Insurance</th>\n      <th>Real Estate</th>\n      <th>Trading</th>\n      <th>Almost Nothing</th>\n    </tr>\n  </thead>\n  <tbody>\n    <tr>\n      <th>Mkt-RF</th>\n      <td>0.785571</td>\n      <td>0.757467</td>\n      <td>0.877928</td>\n      <td>0.800135</td>\n      <td>0.848949</td>\n      <td>1.111235</td>\n      <td>1.201726</td>\n      <td>1.105243</td>\n      <td>0.829866</td>\n      <td>1.075853</td>\n      <td>...</td>\n      <td>0.971068</td>\n      <td>1.066317</td>\n      <td>1.016107</td>\n      <td>0.983379</td>\n      <td>0.964787</td>\n      <td>1.138531</td>\n      <td>1.017765</td>\n      <td>1.136705</td>\n      <td>1.192230</td>\n      <td>1.131484</td>\n    </tr>\n    <tr>\n      <th>SMB</th>\n      <td>0.372012</td>\n      <td>-0.116393</td>\n      <td>-0.001222</td>\n      <td>-0.129384</td>\n      <td>-0.141162</td>\n      <td>0.558205</td>\n      <td>0.338371</td>\n      <td>0.318249</td>\n      <td>-0.058276</td>\n      <td>0.396529</td>\n      <td>...</td>\n      <td>0.063694</td>\n      <td>0.281758</td>\n      <td>0.423220</td>\n      <td>0.134979</td>\n      <td>0.223615</td>\n      <td>-0.067558</td>\n      <td>-0.132121</td>\n      <td>0.862602</td>\n      <td>-0.011965</td>\n      <td>0.066950</td>\n    </tr>\n    <tr>\n      <th>HML</th>\n      <td>0.038793</td>\n      <td>-0.034253</td>\n      <td>0.093331</td>\n      <td>-0.228209</td>\n      <td>-0.110735</td>\n      <td>-0.114897</td>\n      <td>0.214008</td>\n      <td>0.259735</td>\n      <td>-0.194305</td>\n      <td>0.190364</td>\n      <td>...</td>\n      <td>0.216879</td>\n      <td>0.239058</td>\n      <td>0.003988</td>\n      <td>-0.110267</td>\n      <td>0.043392</td>\n      <td>0.971034</td>\n      <td>0.538307</td>\n      <td>0.639522</td>\n      <td>0.509843</td>\n      <td>0.116235</td>\n    </tr>\n    <tr>\n      <th>RMW</th>\n      <td>0.210109</td>\n      <td>0.523576</td>\n      <td>0.495134</td>\n      <td>0.598005</td>\n      <td>0.656214</td>\n      <td>0.501507</td>\n      <td>-0.004555</td>\n      <td>0.321589</td>\n      <td>0.474655</td>\n      <td>0.693757</td>\n      <td>...</td>\n      <td>0.241181</td>\n      <td>0.482131</td>\n      <td>0.408441</td>\n      <td>0.423956</td>\n      <td>0.613887</td>\n      <td>0.022842</td>\n      <td>0.173403</td>\n      <td>0.416530</td>\n      <td>-0.450094</td>\n      <td>0.150848</td>\n    </tr>\n    <tr>\n      <th>CMA</th>\n      <td>0.073141</td>\n      <td>0.465710</td>\n      <td>0.387416</td>\n      <td>0.529289</td>\n      <td>0.785946</td>\n      <td>0.202404</td>\n      <td>-0.290645</td>\n      <td>0.097682</td>\n      <td>0.447645</td>\n      <td>-0.248297</td>\n      <td>...</td>\n      <td>-0.151256</td>\n      <td>-0.052511</td>\n      <td>0.150630</td>\n      <td>0.014541</td>\n      <td>0.147493</td>\n      <td>-0.501811</td>\n      <td>-0.099746</td>\n      <td>-0.208004</td>\n      <td>-0.455205</td>\n      <td>0.113624</td>\n    </tr>\n  </tbody>\n</table>\n<p>5 rows × 48 columns</p>\n</div>"
          },
          "execution_count": 6,
          "metadata": {},
          "output_type": "execute_result"
        }
      ],
      "source": [
        "betas"
      ],
      "metadata": {
        "pycharm": {
          "name": "#%%\n"
        },
        "id": "W7jCUNb2H1bH",
        "outputId": "7829366b-cde5-4d5a-9ce4-c03f5be24c09"
      }
    },
    {
      "cell_type": "code",
      "execution_count": null,
      "outputs": [
        {
          "data": {
            "text/plain": "                                  industry  empirical  theoretical\n0                              Agriculture   0.088237     0.085511\n1                            Food Products   0.103133     0.102647\n2                             Candy & Soda   0.111467     0.113950\n3                            Beer & Liquor   0.120730     0.106569\n4                         Tobacco Products   0.135785     0.124703\n5                               Recreation   0.075888     0.129366\n6                            Entertainment   0.121200     0.104451\n7                    Printing & Publishing   0.078836     0.124421\n8                           Consumer Goods   0.087507     0.102584\n9                                  Apparel   0.109248     0.126728\n10                             Health Care   0.087177     0.139810\n11                       Medical Equipment   0.106515     0.084351\n12                 Pharmaceutical Products   0.104650     0.079460\n13                               Chemicals   0.089822     0.130080\n14             Rubber and Plastic Products   0.103787     0.126826\n15                                Textiles   0.090454     0.158274\n16                  Construction Materials   0.097046     0.155661\n17                            Construction   0.086512     0.148861\n18                         Steel Works Etc   0.059261     0.123609\n19                     Fabricated Products   0.054523     0.107916\n20                               Machinery   0.090946     0.114783\n21                    Electrical Equipment   0.114109     0.121108\n22                    Automobiles & Trucks   0.109891     0.151020\n23                                Aircraft   0.104179     0.138024\n24       Shipbuilding & Railroad Equipment   0.086255     0.163950\n25                                 Defense   0.109114     0.118548\n26                         Precious Metals   0.059527     0.080646\n27  Non-Metallic & Industrial Metal Mining   0.087455     0.135810\n28                                    Coal   0.059596     0.132816\n29                 Petroleum & Natural Gas   0.082237     0.120558\n30                               Utilities   0.077967     0.070186\n31                           Communication   0.079452     0.071220\n32                       Personal Services   0.063080     0.122813\n33                       Business Services   0.121590     0.057385\n34                               Computers   0.087907     0.049413\n35                    Electronic Equipment   0.121580     0.067665\n36           Measuring & Control Equipment   0.104726     0.088034\n37                       Business Supplies   0.075614     0.132481\n38                     Shipping Containers   0.099460     0.097077\n39                          Transportation   0.092362     0.122559\n40                               Wholesale   0.083525     0.116784\n41                                  Retail   0.115960     0.104036\n42           Restaurants, Hotels, & Motels   0.103901     0.120389\n43                                 Banking   0.096765     0.108734\n44                               Insurance   0.097794     0.105967\n45                             Real Estate   0.052444     0.137681\n46                                 Trading   0.114713     0.081857\n47                          Almost Nothing   0.050051     0.112861",
            "text/html": "<div>\n<style scoped>\n    .dataframe tbody tr th:only-of-type {\n        vertical-align: middle;\n    }\n\n    .dataframe tbody tr th {\n        vertical-align: top;\n    }\n\n    .dataframe thead th {\n        text-align: right;\n    }\n</style>\n<table border=\"1\" class=\"dataframe\">\n  <thead>\n    <tr style=\"text-align: right;\">\n      <th></th>\n      <th>industry</th>\n      <th>empirical</th>\n      <th>theoretical</th>\n    </tr>\n  </thead>\n  <tbody>\n    <tr>\n      <th>0</th>\n      <td>Agriculture</td>\n      <td>0.088237</td>\n      <td>0.085511</td>\n    </tr>\n    <tr>\n      <th>1</th>\n      <td>Food Products</td>\n      <td>0.103133</td>\n      <td>0.102647</td>\n    </tr>\n    <tr>\n      <th>2</th>\n      <td>Candy &amp; Soda</td>\n      <td>0.111467</td>\n      <td>0.113950</td>\n    </tr>\n    <tr>\n      <th>3</th>\n      <td>Beer &amp; Liquor</td>\n      <td>0.120730</td>\n      <td>0.106569</td>\n    </tr>\n    <tr>\n      <th>4</th>\n      <td>Tobacco Products</td>\n      <td>0.135785</td>\n      <td>0.124703</td>\n    </tr>\n    <tr>\n      <th>5</th>\n      <td>Recreation</td>\n      <td>0.075888</td>\n      <td>0.129366</td>\n    </tr>\n    <tr>\n      <th>6</th>\n      <td>Entertainment</td>\n      <td>0.121200</td>\n      <td>0.104451</td>\n    </tr>\n    <tr>\n      <th>7</th>\n      <td>Printing &amp; Publishing</td>\n      <td>0.078836</td>\n      <td>0.124421</td>\n    </tr>\n    <tr>\n      <th>8</th>\n      <td>Consumer Goods</td>\n      <td>0.087507</td>\n      <td>0.102584</td>\n    </tr>\n    <tr>\n      <th>9</th>\n      <td>Apparel</td>\n      <td>0.109248</td>\n      <td>0.126728</td>\n    </tr>\n    <tr>\n      <th>10</th>\n      <td>Health Care</td>\n      <td>0.087177</td>\n      <td>0.139810</td>\n    </tr>\n    <tr>\n      <th>11</th>\n      <td>Medical Equipment</td>\n      <td>0.106515</td>\n      <td>0.084351</td>\n    </tr>\n    <tr>\n      <th>12</th>\n      <td>Pharmaceutical Products</td>\n      <td>0.104650</td>\n      <td>0.079460</td>\n    </tr>\n    <tr>\n      <th>13</th>\n      <td>Chemicals</td>\n      <td>0.089822</td>\n      <td>0.130080</td>\n    </tr>\n    <tr>\n      <th>14</th>\n      <td>Rubber and Plastic Products</td>\n      <td>0.103787</td>\n      <td>0.126826</td>\n    </tr>\n    <tr>\n      <th>15</th>\n      <td>Textiles</td>\n      <td>0.090454</td>\n      <td>0.158274</td>\n    </tr>\n    <tr>\n      <th>16</th>\n      <td>Construction Materials</td>\n      <td>0.097046</td>\n      <td>0.155661</td>\n    </tr>\n    <tr>\n      <th>17</th>\n      <td>Construction</td>\n      <td>0.086512</td>\n      <td>0.148861</td>\n    </tr>\n    <tr>\n      <th>18</th>\n      <td>Steel Works Etc</td>\n      <td>0.059261</td>\n      <td>0.123609</td>\n    </tr>\n    <tr>\n      <th>19</th>\n      <td>Fabricated Products</td>\n      <td>0.054523</td>\n      <td>0.107916</td>\n    </tr>\n    <tr>\n      <th>20</th>\n      <td>Machinery</td>\n      <td>0.090946</td>\n      <td>0.114783</td>\n    </tr>\n    <tr>\n      <th>21</th>\n      <td>Electrical Equipment</td>\n      <td>0.114109</td>\n      <td>0.121108</td>\n    </tr>\n    <tr>\n      <th>22</th>\n      <td>Automobiles &amp; Trucks</td>\n      <td>0.109891</td>\n      <td>0.151020</td>\n    </tr>\n    <tr>\n      <th>23</th>\n      <td>Aircraft</td>\n      <td>0.104179</td>\n      <td>0.138024</td>\n    </tr>\n    <tr>\n      <th>24</th>\n      <td>Shipbuilding &amp; Railroad Equipment</td>\n      <td>0.086255</td>\n      <td>0.163950</td>\n    </tr>\n    <tr>\n      <th>25</th>\n      <td>Defense</td>\n      <td>0.109114</td>\n      <td>0.118548</td>\n    </tr>\n    <tr>\n      <th>26</th>\n      <td>Precious Metals</td>\n      <td>0.059527</td>\n      <td>0.080646</td>\n    </tr>\n    <tr>\n      <th>27</th>\n      <td>Non-Metallic &amp; Industrial Metal Mining</td>\n      <td>0.087455</td>\n      <td>0.135810</td>\n    </tr>\n    <tr>\n      <th>28</th>\n      <td>Coal</td>\n      <td>0.059596</td>\n      <td>0.132816</td>\n    </tr>\n    <tr>\n      <th>29</th>\n      <td>Petroleum &amp; Natural Gas</td>\n      <td>0.082237</td>\n      <td>0.120558</td>\n    </tr>\n    <tr>\n      <th>30</th>\n      <td>Utilities</td>\n      <td>0.077967</td>\n      <td>0.070186</td>\n    </tr>\n    <tr>\n      <th>31</th>\n      <td>Communication</td>\n      <td>0.079452</td>\n      <td>0.071220</td>\n    </tr>\n    <tr>\n      <th>32</th>\n      <td>Personal Services</td>\n      <td>0.063080</td>\n      <td>0.122813</td>\n    </tr>\n    <tr>\n      <th>33</th>\n      <td>Business Services</td>\n      <td>0.121590</td>\n      <td>0.057385</td>\n    </tr>\n    <tr>\n      <th>34</th>\n      <td>Computers</td>\n      <td>0.087907</td>\n      <td>0.049413</td>\n    </tr>\n    <tr>\n      <th>35</th>\n      <td>Electronic Equipment</td>\n      <td>0.121580</td>\n      <td>0.067665</td>\n    </tr>\n    <tr>\n      <th>36</th>\n      <td>Measuring &amp; Control Equipment</td>\n      <td>0.104726</td>\n      <td>0.088034</td>\n    </tr>\n    <tr>\n      <th>37</th>\n      <td>Business Supplies</td>\n      <td>0.075614</td>\n      <td>0.132481</td>\n    </tr>\n    <tr>\n      <th>38</th>\n      <td>Shipping Containers</td>\n      <td>0.099460</td>\n      <td>0.097077</td>\n    </tr>\n    <tr>\n      <th>39</th>\n      <td>Transportation</td>\n      <td>0.092362</td>\n      <td>0.122559</td>\n    </tr>\n    <tr>\n      <th>40</th>\n      <td>Wholesale</td>\n      <td>0.083525</td>\n      <td>0.116784</td>\n    </tr>\n    <tr>\n      <th>41</th>\n      <td>Retail</td>\n      <td>0.115960</td>\n      <td>0.104036</td>\n    </tr>\n    <tr>\n      <th>42</th>\n      <td>Restaurants, Hotels, &amp; Motels</td>\n      <td>0.103901</td>\n      <td>0.120389</td>\n    </tr>\n    <tr>\n      <th>43</th>\n      <td>Banking</td>\n      <td>0.096765</td>\n      <td>0.108734</td>\n    </tr>\n    <tr>\n      <th>44</th>\n      <td>Insurance</td>\n      <td>0.097794</td>\n      <td>0.105967</td>\n    </tr>\n    <tr>\n      <th>45</th>\n      <td>Real Estate</td>\n      <td>0.052444</td>\n      <td>0.137681</td>\n    </tr>\n    <tr>\n      <th>46</th>\n      <td>Trading</td>\n      <td>0.114713</td>\n      <td>0.081857</td>\n    </tr>\n    <tr>\n      <th>47</th>\n      <td>Almost Nothing</td>\n      <td>0.050051</td>\n      <td>0.112861</td>\n    </tr>\n  </tbody>\n</table>\n</div>"
          },
          "execution_count": 7,
          "metadata": {},
          "output_type": "execute_result"
        }
      ],
      "source": [
        "d2"
      ],
      "metadata": {
        "pycharm": {
          "name": "#%%\n"
        },
        "id": "7CXkoQQXH1bI",
        "outputId": "bae97fa7-7172-483c-bd7b-a69b16737b1e"
      }
    },
    {
      "cell_type": "code",
      "execution_count": null,
      "outputs": [],
      "source": [
        ""
      ],
      "metadata": {
        "pycharm": {
          "name": "#%%\n"
        },
        "id": "omhkd_lhH1bI"
      }
    }
  ],
  "metadata": {
    "kernelspec": {
      "display_name": "Python 3",
      "language": "python",
      "name": "python3"
    },
    "language_info": {
      "codemirror_mode": {
        "name": "ipython",
        "version": 2
      },
      "file_extension": ".py",
      "mimetype": "text/x-python",
      "name": "python",
      "nbconvert_exporter": "python",
      "pygments_lexer": "ipython2",
      "version": "2.7.6"
    },
    "colab": {
      "name": "ff_industries.ipynb",
      "provenance": [],
      "include_colab_link": true
    }
  },
  "nbformat": 4,
  "nbformat_minor": 0
}