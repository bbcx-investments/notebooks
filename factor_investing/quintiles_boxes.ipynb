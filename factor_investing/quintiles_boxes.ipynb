{
  "nbformat": 4,
  "nbformat_minor": 0,
  "metadata": {
    "colab": {
      "name": "Untitled8.ipynb",
      "provenance": [],
      "authorship_tag": "ABX9TyMTCZZ28Z4ngxVFzlUlxHcV",
      "include_colab_link": true
    },
    "kernelspec": {
      "name": "python3",
      "display_name": "Python 3"
    },
    "language_info": {
      "name": "python"
    }
  },
  "cells": [
    {
      "cell_type": "markdown",
      "metadata": {
        "id": "view-in-github",
        "colab_type": "text"
      },
      "source": [
        "<a href=\"https://colab.research.google.com/github/bbcx-investments/notebooks/blob/main/factor_investing/quintiles_boxes.ipynb\" target=\"_parent\"><img src=\"https://colab.research.google.com/assets/colab-badge.svg\" alt=\"Open In Colab\"/></a>"
      ]
    },
    {
      "cell_type": "code",
      "execution_count": 3,
      "metadata": {
        "colab": {
          "base_uri": "https://localhost:8080/",
          "height": 542
        },
        "id": "Rqnlteb7YJRr",
        "outputId": "71e574ce-84e2-4d05-b8ca-ca28464daa39"
      },
      "outputs": [
        {
          "output_type": "display_data",
          "data": {
            "text/html": [
              "<html>\n",
              "<head><meta charset=\"utf-8\" /></head>\n",
              "<body>\n",
              "    <div>            <script src=\"https://cdnjs.cloudflare.com/ajax/libs/mathjax/2.7.5/MathJax.js?config=TeX-AMS-MML_SVG\"></script><script type=\"text/javascript\">if (window.MathJax) {MathJax.Hub.Config({SVG: {font: \"STIX-Web\"}});}</script>                <script type=\"text/javascript\">window.PlotlyConfig = {MathJaxConfig: 'local'};</script>\n",
              "        <script src=\"https://cdn.plot.ly/plotly-2.8.3.min.js\"></script>                <div id=\"b222ab04-4a3f-42f1-8d64-69633fa00aa8\" class=\"plotly-graph-div\" style=\"height:525px; width:100%;\"></div>            <script type=\"text/javascript\">                                    window.PLOTLYENV=window.PLOTLYENV || {};                                    if (document.getElementById(\"b222ab04-4a3f-42f1-8d64-69633fa00aa8\")) {                    Plotly.newPlot(                        \"b222ab04-4a3f-42f1-8d64-69633fa00aa8\",                        [{\"alignmentgroup\":\"True\",\"hovertemplate\":\"Quintile=%{x}<br>Return=%{y}<extra></extra>\",\"legendgroup\":\"\",\"marker\":{\"color\":\"#636efa\"},\"name\":\"\",\"notched\":false,\"offsetgroup\":\"\",\"orientation\":\"v\",\"showlegend\":false,\"x\":[\"Lo 20\",\"Qnt 2\",\"Qnt 3\",\"Qnt 4\",\"Hi 20\",\"Lo 20\",\"Qnt 2\",\"Qnt 3\",\"Qnt 4\",\"Hi 20\",\"Lo 20\",\"Qnt 2\",\"Qnt 3\",\"Qnt 4\",\"Hi 20\",\"Lo 20\",\"Qnt 2\",\"Qnt 3\",\"Qnt 4\",\"Hi 20\",\"Lo 20\",\"Qnt 2\",\"Qnt 3\",\"Qnt 4\",\"Hi 20\",\"Lo 20\",\"Qnt 2\",\"Qnt 3\",\"Qnt 4\",\"Hi 20\",\"Lo 20\",\"Qnt 2\",\"Qnt 3\",\"Qnt 4\",\"Hi 20\",\"Lo 20\",\"Qnt 2\",\"Qnt 3\",\"Qnt 4\",\"Hi 20\",\"Lo 20\",\"Qnt 2\",\"Qnt 3\",\"Qnt 4\",\"Hi 20\",\"Lo 20\",\"Qnt 2\",\"Qnt 3\",\"Qnt 4\",\"Hi 20\",\"Lo 20\",\"Qnt 2\",\"Qnt 3\",\"Qnt 4\",\"Hi 20\",\"Lo 20\",\"Qnt 2\",\"Qnt 3\",\"Qnt 4\",\"Hi 20\",\"Lo 20\",\"Qnt 2\",\"Qnt 3\",\"Qnt 4\",\"Hi 20\",\"Lo 20\",\"Qnt 2\",\"Qnt 3\",\"Qnt 4\",\"Hi 20\",\"Lo 20\",\"Qnt 2\",\"Qnt 3\",\"Qnt 4\",\"Hi 20\",\"Lo 20\",\"Qnt 2\",\"Qnt 3\",\"Qnt 4\",\"Hi 20\",\"Lo 20\",\"Qnt 2\",\"Qnt 3\",\"Qnt 4\",\"Hi 20\",\"Lo 20\",\"Qnt 2\",\"Qnt 3\",\"Qnt 4\",\"Hi 20\",\"Lo 20\",\"Qnt 2\",\"Qnt 3\",\"Qnt 4\",\"Hi 20\",\"Lo 20\",\"Qnt 2\",\"Qnt 3\",\"Qnt 4\",\"Hi 20\",\"Lo 20\",\"Qnt 2\",\"Qnt 3\",\"Qnt 4\",\"Hi 20\",\"Lo 20\",\"Qnt 2\",\"Qnt 3\",\"Qnt 4\",\"Hi 20\",\"Lo 20\",\"Qnt 2\",\"Qnt 3\",\"Qnt 4\",\"Hi 20\",\"Lo 20\",\"Qnt 2\",\"Qnt 3\",\"Qnt 4\",\"Hi 20\",\"Lo 20\",\"Qnt 2\",\"Qnt 3\",\"Qnt 4\",\"Hi 20\",\"Lo 20\",\"Qnt 2\",\"Qnt 3\",\"Qnt 4\",\"Hi 20\",\"Lo 20\",\"Qnt 2\",\"Qnt 3\",\"Qnt 4\",\"Hi 20\",\"Lo 20\",\"Qnt 2\",\"Qnt 3\",\"Qnt 4\",\"Hi 20\",\"Lo 20\",\"Qnt 2\",\"Qnt 3\",\"Qnt 4\",\"Hi 20\",\"Lo 20\",\"Qnt 2\",\"Qnt 3\",\"Qnt 4\",\"Hi 20\",\"Lo 20\",\"Qnt 2\",\"Qnt 3\",\"Qnt 4\",\"Hi 20\",\"Lo 20\",\"Qnt 2\",\"Qnt 3\",\"Qnt 4\",\"Hi 20\",\"Lo 20\",\"Qnt 2\",\"Qnt 3\",\"Qnt 4\",\"Hi 20\",\"Lo 20\",\"Qnt 2\",\"Qnt 3\",\"Qnt 4\",\"Hi 20\",\"Lo 20\",\"Qnt 2\",\"Qnt 3\",\"Qnt 4\",\"Hi 20\",\"Lo 20\",\"Qnt 2\",\"Qnt 3\",\"Qnt 4\",\"Hi 20\",\"Lo 20\",\"Qnt 2\",\"Qnt 3\",\"Qnt 4\",\"Hi 20\",\"Lo 20\",\"Qnt 2\",\"Qnt 3\",\"Qnt 4\",\"Hi 20\",\"Lo 20\",\"Qnt 2\",\"Qnt 3\",\"Qnt 4\",\"Hi 20\",\"Lo 20\",\"Qnt 2\",\"Qnt 3\",\"Qnt 4\",\"Hi 20\",\"Lo 20\",\"Qnt 2\",\"Qnt 3\",\"Qnt 4\",\"Hi 20\",\"Lo 20\",\"Qnt 2\",\"Qnt 3\",\"Qnt 4\",\"Hi 20\",\"Lo 20\",\"Qnt 2\",\"Qnt 3\",\"Qnt 4\",\"Hi 20\",\"Lo 20\",\"Qnt 2\",\"Qnt 3\",\"Qnt 4\",\"Hi 20\",\"Lo 20\",\"Qnt 2\",\"Qnt 3\",\"Qnt 4\",\"Hi 20\",\"Lo 20\",\"Qnt 2\",\"Qnt 3\",\"Qnt 4\",\"Hi 20\",\"Lo 20\",\"Qnt 2\",\"Qnt 3\",\"Qnt 4\",\"Hi 20\",\"Lo 20\",\"Qnt 2\",\"Qnt 3\",\"Qnt 4\",\"Hi 20\",\"Lo 20\",\"Qnt 2\",\"Qnt 3\",\"Qnt 4\",\"Hi 20\",\"Lo 20\",\"Qnt 2\",\"Qnt 3\",\"Qnt 4\",\"Hi 20\",\"Lo 20\",\"Qnt 2\",\"Qnt 3\",\"Qnt 4\",\"Hi 20\",\"Lo 20\",\"Qnt 2\",\"Qnt 3\",\"Qnt 4\",\"Hi 20\"],\"x0\":\" \",\"xaxis\":\"x\",\"y\":[-0.1126,0.11335,0.078,0.033600000000000005,-0.06965,0.1391,0.23925,0.1727,0.14495,0.21275,0.00875,0.08925,0.18615,0.15215,0.2837,-0.50905,-0.351,-0.2057,-0.1537,-0.08224999999999999,-0.34685,-0.21900000000000003,-0.2938,-0.2315,-0.2592,0.53725,0.46645,0.40235,0.2539,0.37335,0.1839,0.26005,0.3221,0.3094,0.30235,-0.14705,-0.04735,-0.01865,0.0426,0.12360000000000002,0.0349,0.06989999999999999,0.0379,0.0842,0.27149999999999996,0.16,0.1436,0.19595,0.28374999999999995,0.4954,0.21995,0.17845,0.20535,0.4262,0.55535,0.05644999999999999,0.062450000000000006,-0.029199999999999997,-0.08585,-0.1042,-0.027900000000000005,0.17615,0.18085,0.30955,0.38525,0.36005000000000004,0.2385,0.16805,0.1856,0.17309999999999998,-0.10555,0.050499999999999996,0.1005,0.053750000000000006,-0.006400000000000003,0.18535000000000001,0.35750000000000004,0.3584,0.32695,0.33935000000000004,0.04189999999999999,0.19784999999999997,0.15075,0.19275,0.19635,0.03245,0.07050000000000001,-0.04085,-0.005949999999999999,0.04435,0.2443,0.27775,0.15415,0.1472,0.16255,-0.015,0.183,0.26944999999999997,0.34255,0.4187,-0.33025,-0.14855000000000002,-0.0625,-0.016649999999999998,-0.03905,0.37255000000000005,0.36285,0.31445,0.34655,0.47645000000000004,0.1048,0.10969999999999999,0.10490000000000001,0.061,0.116,0.02505,-0.0083,0.07694999999999999,0.17145,0.27885000000000004,-0.0036500000000000005,-0.00895,0.0029500000000000012,-0.0027,-0.014,0.2102,0.35719999999999996,0.33925,0.3823,0.36865,0.14679999999999999,0.24609999999999999,0.1754,0.25329999999999997,0.19080000000000003,0.16195,0.3323,0.29075,0.36175,0.28635,0.0063,0.1726,0.1339,0.2532,0.41209999999999997,0.1341,-0.0144,0.0354,0.1053,0.36795,-0.20695,0.06899999999999999,0.0437,-0.07035,-0.15585,-0.1308,-0.08285000000000001,-0.0663,-0.025099999999999997,-0.08585000000000001,-0.3755,-0.232,-0.18119999999999997,-0.0854,-0.08555,0.7274,0.4302,0.23709999999999998,0.19665,0.36885,0.14625000000000002,0.149,0.08975,0.11215,0.13205,0.0255,0.00465,0.06445000000000001,0.12375,0.14675,0.21244999999999997,0.16935,0.17359999999999998,0.12865,0.07495,-0.1438,-0.0558,0.04575,0.13319999999999999,0.1676,-0.61985,-0.3943,-0.31405,-0.28795000000000004,-0.3922,1.0421,0.6033499999999999,0.4828,0.24225,0.13095,0.19974999999999998,0.1628,0.12154999999999999,0.22895,0.27555,-0.16355,0.023850000000000003,0.05765,0.003849999999999996,-0.039950000000000006,0.13319999999999999,0.19815,0.1508,0.14905000000000002,0.17745,0.35950000000000004,0.31555,0.3916,0.3676,0.38155000000000006,0.07415,0.1121,0.13435,0.11929999999999999,0.13045,-0.26865,-0.06325,0.00385,0.026750000000000003,0.058899999999999994,0.39125,0.25644999999999996,0.1633,0.06665,0.07105,0.15365,0.2204,0.2465,0.20475,0.21055000000000001,-0.18145,-0.1043,-0.03765,-0.06339999999999998,0.01375,0.2852,0.30710000000000004,0.33245,0.2642,0.3006,0.16435,0.16205,0.14850000000000002,0.1613,0.3308,0.316,0.4223,0.27265,0.2531,0.06295],\"y0\":\" \",\"yaxis\":\"y\",\"type\":\"box\"}],                        {\"template\":{\"data\":{\"barpolar\":[{\"marker\":{\"line\":{\"color\":\"rgb(17,17,17)\",\"width\":0.5},\"pattern\":{\"fillmode\":\"overlay\",\"size\":10,\"solidity\":0.2}},\"type\":\"barpolar\"}],\"bar\":[{\"error_x\":{\"color\":\"#f2f5fa\"},\"error_y\":{\"color\":\"#f2f5fa\"},\"marker\":{\"line\":{\"color\":\"rgb(17,17,17)\",\"width\":0.5},\"pattern\":{\"fillmode\":\"overlay\",\"size\":10,\"solidity\":0.2}},\"type\":\"bar\"}],\"carpet\":[{\"aaxis\":{\"endlinecolor\":\"#A2B1C6\",\"gridcolor\":\"#506784\",\"linecolor\":\"#506784\",\"minorgridcolor\":\"#506784\",\"startlinecolor\":\"#A2B1C6\"},\"baxis\":{\"endlinecolor\":\"#A2B1C6\",\"gridcolor\":\"#506784\",\"linecolor\":\"#506784\",\"minorgridcolor\":\"#506784\",\"startlinecolor\":\"#A2B1C6\"},\"type\":\"carpet\"}],\"choropleth\":[{\"colorbar\":{\"outlinewidth\":0,\"ticks\":\"\"},\"type\":\"choropleth\"}],\"contourcarpet\":[{\"colorbar\":{\"outlinewidth\":0,\"ticks\":\"\"},\"type\":\"contourcarpet\"}],\"contour\":[{\"colorbar\":{\"outlinewidth\":0,\"ticks\":\"\"},\"colorscale\":[[0.0,\"#0d0887\"],[0.1111111111111111,\"#46039f\"],[0.2222222222222222,\"#7201a8\"],[0.3333333333333333,\"#9c179e\"],[0.4444444444444444,\"#bd3786\"],[0.5555555555555556,\"#d8576b\"],[0.6666666666666666,\"#ed7953\"],[0.7777777777777778,\"#fb9f3a\"],[0.8888888888888888,\"#fdca26\"],[1.0,\"#f0f921\"]],\"type\":\"contour\"}],\"heatmapgl\":[{\"colorbar\":{\"outlinewidth\":0,\"ticks\":\"\"},\"colorscale\":[[0.0,\"#0d0887\"],[0.1111111111111111,\"#46039f\"],[0.2222222222222222,\"#7201a8\"],[0.3333333333333333,\"#9c179e\"],[0.4444444444444444,\"#bd3786\"],[0.5555555555555556,\"#d8576b\"],[0.6666666666666666,\"#ed7953\"],[0.7777777777777778,\"#fb9f3a\"],[0.8888888888888888,\"#fdca26\"],[1.0,\"#f0f921\"]],\"type\":\"heatmapgl\"}],\"heatmap\":[{\"colorbar\":{\"outlinewidth\":0,\"ticks\":\"\"},\"colorscale\":[[0.0,\"#0d0887\"],[0.1111111111111111,\"#46039f\"],[0.2222222222222222,\"#7201a8\"],[0.3333333333333333,\"#9c179e\"],[0.4444444444444444,\"#bd3786\"],[0.5555555555555556,\"#d8576b\"],[0.6666666666666666,\"#ed7953\"],[0.7777777777777778,\"#fb9f3a\"],[0.8888888888888888,\"#fdca26\"],[1.0,\"#f0f921\"]],\"type\":\"heatmap\"}],\"histogram2dcontour\":[{\"colorbar\":{\"outlinewidth\":0,\"ticks\":\"\"},\"colorscale\":[[0.0,\"#0d0887\"],[0.1111111111111111,\"#46039f\"],[0.2222222222222222,\"#7201a8\"],[0.3333333333333333,\"#9c179e\"],[0.4444444444444444,\"#bd3786\"],[0.5555555555555556,\"#d8576b\"],[0.6666666666666666,\"#ed7953\"],[0.7777777777777778,\"#fb9f3a\"],[0.8888888888888888,\"#fdca26\"],[1.0,\"#f0f921\"]],\"type\":\"histogram2dcontour\"}],\"histogram2d\":[{\"colorbar\":{\"outlinewidth\":0,\"ticks\":\"\"},\"colorscale\":[[0.0,\"#0d0887\"],[0.1111111111111111,\"#46039f\"],[0.2222222222222222,\"#7201a8\"],[0.3333333333333333,\"#9c179e\"],[0.4444444444444444,\"#bd3786\"],[0.5555555555555556,\"#d8576b\"],[0.6666666666666666,\"#ed7953\"],[0.7777777777777778,\"#fb9f3a\"],[0.8888888888888888,\"#fdca26\"],[1.0,\"#f0f921\"]],\"type\":\"histogram2d\"}],\"histogram\":[{\"marker\":{\"pattern\":{\"fillmode\":\"overlay\",\"size\":10,\"solidity\":0.2}},\"type\":\"histogram\"}],\"mesh3d\":[{\"colorbar\":{\"outlinewidth\":0,\"ticks\":\"\"},\"type\":\"mesh3d\"}],\"parcoords\":[{\"line\":{\"colorbar\":{\"outlinewidth\":0,\"ticks\":\"\"}},\"type\":\"parcoords\"}],\"pie\":[{\"automargin\":true,\"type\":\"pie\"}],\"scatter3d\":[{\"line\":{\"colorbar\":{\"outlinewidth\":0,\"ticks\":\"\"}},\"marker\":{\"colorbar\":{\"outlinewidth\":0,\"ticks\":\"\"}},\"type\":\"scatter3d\"}],\"scattercarpet\":[{\"marker\":{\"colorbar\":{\"outlinewidth\":0,\"ticks\":\"\"}},\"type\":\"scattercarpet\"}],\"scattergeo\":[{\"marker\":{\"colorbar\":{\"outlinewidth\":0,\"ticks\":\"\"}},\"type\":\"scattergeo\"}],\"scattergl\":[{\"marker\":{\"line\":{\"color\":\"#283442\"}},\"type\":\"scattergl\"}],\"scattermapbox\":[{\"marker\":{\"colorbar\":{\"outlinewidth\":0,\"ticks\":\"\"}},\"type\":\"scattermapbox\"}],\"scatterpolargl\":[{\"marker\":{\"colorbar\":{\"outlinewidth\":0,\"ticks\":\"\"}},\"type\":\"scatterpolargl\"}],\"scatterpolar\":[{\"marker\":{\"colorbar\":{\"outlinewidth\":0,\"ticks\":\"\"}},\"type\":\"scatterpolar\"}],\"scatter\":[{\"marker\":{\"line\":{\"color\":\"#283442\"}},\"type\":\"scatter\"}],\"scatterternary\":[{\"marker\":{\"colorbar\":{\"outlinewidth\":0,\"ticks\":\"\"}},\"type\":\"scatterternary\"}],\"surface\":[{\"colorbar\":{\"outlinewidth\":0,\"ticks\":\"\"},\"colorscale\":[[0.0,\"#0d0887\"],[0.1111111111111111,\"#46039f\"],[0.2222222222222222,\"#7201a8\"],[0.3333333333333333,\"#9c179e\"],[0.4444444444444444,\"#bd3786\"],[0.5555555555555556,\"#d8576b\"],[0.6666666666666666,\"#ed7953\"],[0.7777777777777778,\"#fb9f3a\"],[0.8888888888888888,\"#fdca26\"],[1.0,\"#f0f921\"]],\"type\":\"surface\"}],\"table\":[{\"cells\":{\"fill\":{\"color\":\"#506784\"},\"line\":{\"color\":\"rgb(17,17,17)\"}},\"header\":{\"fill\":{\"color\":\"#2a3f5f\"},\"line\":{\"color\":\"rgb(17,17,17)\"}},\"type\":\"table\"}]},\"layout\":{\"annotationdefaults\":{\"arrowcolor\":\"#f2f5fa\",\"arrowhead\":0,\"arrowwidth\":1},\"autotypenumbers\":\"strict\",\"coloraxis\":{\"colorbar\":{\"outlinewidth\":0,\"ticks\":\"\"}},\"colorscale\":{\"diverging\":[[0,\"#8e0152\"],[0.1,\"#c51b7d\"],[0.2,\"#de77ae\"],[0.3,\"#f1b6da\"],[0.4,\"#fde0ef\"],[0.5,\"#f7f7f7\"],[0.6,\"#e6f5d0\"],[0.7,\"#b8e186\"],[0.8,\"#7fbc41\"],[0.9,\"#4d9221\"],[1,\"#276419\"]],\"sequential\":[[0.0,\"#0d0887\"],[0.1111111111111111,\"#46039f\"],[0.2222222222222222,\"#7201a8\"],[0.3333333333333333,\"#9c179e\"],[0.4444444444444444,\"#bd3786\"],[0.5555555555555556,\"#d8576b\"],[0.6666666666666666,\"#ed7953\"],[0.7777777777777778,\"#fb9f3a\"],[0.8888888888888888,\"#fdca26\"],[1.0,\"#f0f921\"]],\"sequentialminus\":[[0.0,\"#0d0887\"],[0.1111111111111111,\"#46039f\"],[0.2222222222222222,\"#7201a8\"],[0.3333333333333333,\"#9c179e\"],[0.4444444444444444,\"#bd3786\"],[0.5555555555555556,\"#d8576b\"],[0.6666666666666666,\"#ed7953\"],[0.7777777777777778,\"#fb9f3a\"],[0.8888888888888888,\"#fdca26\"],[1.0,\"#f0f921\"]]},\"colorway\":[\"#636efa\",\"#EF553B\",\"#00cc96\",\"#ab63fa\",\"#FFA15A\",\"#19d3f3\",\"#FF6692\",\"#B6E880\",\"#FF97FF\",\"#FECB52\"],\"font\":{\"color\":\"#f2f5fa\"},\"geo\":{\"bgcolor\":\"rgb(17,17,17)\",\"lakecolor\":\"rgb(17,17,17)\",\"landcolor\":\"rgb(17,17,17)\",\"showlakes\":true,\"showland\":true,\"subunitcolor\":\"#506784\"},\"hoverlabel\":{\"align\":\"left\"},\"hovermode\":\"closest\",\"mapbox\":{\"style\":\"dark\"},\"paper_bgcolor\":\"rgb(17,17,17)\",\"plot_bgcolor\":\"rgb(17,17,17)\",\"polar\":{\"angularaxis\":{\"gridcolor\":\"#506784\",\"linecolor\":\"#506784\",\"ticks\":\"\"},\"bgcolor\":\"rgb(17,17,17)\",\"radialaxis\":{\"gridcolor\":\"#506784\",\"linecolor\":\"#506784\",\"ticks\":\"\"}},\"scene\":{\"xaxis\":{\"backgroundcolor\":\"rgb(17,17,17)\",\"gridcolor\":\"#506784\",\"gridwidth\":2,\"linecolor\":\"#506784\",\"showbackground\":true,\"ticks\":\"\",\"zerolinecolor\":\"#C8D4E3\"},\"yaxis\":{\"backgroundcolor\":\"rgb(17,17,17)\",\"gridcolor\":\"#506784\",\"gridwidth\":2,\"linecolor\":\"#506784\",\"showbackground\":true,\"ticks\":\"\",\"zerolinecolor\":\"#C8D4E3\"},\"zaxis\":{\"backgroundcolor\":\"rgb(17,17,17)\",\"gridcolor\":\"#506784\",\"gridwidth\":2,\"linecolor\":\"#506784\",\"showbackground\":true,\"ticks\":\"\",\"zerolinecolor\":\"#C8D4E3\"}},\"shapedefaults\":{\"line\":{\"color\":\"#f2f5fa\"}},\"sliderdefaults\":{\"bgcolor\":\"#C8D4E3\",\"bordercolor\":\"rgb(17,17,17)\",\"borderwidth\":1,\"tickwidth\":0},\"ternary\":{\"aaxis\":{\"gridcolor\":\"#506784\",\"linecolor\":\"#506784\",\"ticks\":\"\"},\"baxis\":{\"gridcolor\":\"#506784\",\"linecolor\":\"#506784\",\"ticks\":\"\"},\"bgcolor\":\"rgb(17,17,17)\",\"caxis\":{\"gridcolor\":\"#506784\",\"linecolor\":\"#506784\",\"ticks\":\"\"}},\"title\":{\"x\":0.05},\"updatemenudefaults\":{\"bgcolor\":\"#506784\",\"borderwidth\":0},\"xaxis\":{\"automargin\":true,\"gridcolor\":\"#283442\",\"linecolor\":\"#506784\",\"ticks\":\"\",\"title\":{\"standoff\":15},\"zerolinecolor\":\"#283442\",\"zerolinewidth\":2},\"yaxis\":{\"automargin\":true,\"gridcolor\":\"#283442\",\"linecolor\":\"#506784\",\"ticks\":\"\",\"title\":{\"standoff\":15},\"zerolinecolor\":\"#283442\",\"zerolinewidth\":2}}},\"xaxis\":{\"anchor\":\"y\",\"domain\":[0.0,1.0],\"title\":{\"text\":\"\",\"font\":{\"size\":16}}},\"yaxis\":{\"anchor\":\"x\",\"domain\":[0.0,1.0],\"title\":{\"text\":\"Return\",\"font\":{\"size\":16}},\"tickformat\":\".0%\"},\"legend\":{\"tracegroupgap\":0},\"margin\":{\"t\":20,\"l\":60,\"r\":20,\"b\":60},\"boxmode\":\"group\",\"font\":{\"size\":14}},                        {\"responsive\": true}                    ).then(function(){\n",
              "                            \n",
              "var gd = document.getElementById('b222ab04-4a3f-42f1-8d64-69633fa00aa8');\n",
              "var x = new MutationObserver(function (mutations, observer) {{\n",
              "        var display = window.getComputedStyle(gd).display;\n",
              "        if (!display || display === 'none') {{\n",
              "            console.log([gd, 'removed!']);\n",
              "            Plotly.purge(gd);\n",
              "            observer.disconnect();\n",
              "        }}\n",
              "}});\n",
              "\n",
              "// Listen for the removal of the full notebook cells\n",
              "var notebookContainer = gd.closest('#notebook-container');\n",
              "if (notebookContainer) {{\n",
              "    x.observe(notebookContainer, {childList: true});\n",
              "}}\n",
              "\n",
              "// Listen for the clearing of the current output cell\n",
              "var outputEl = gd.closest('.output');\n",
              "if (outputEl) {{\n",
              "    x.observe(outputEl, {childList: true});\n",
              "}}\n",
              "\n",
              "                        })                };                            </script>        </div>\n",
              "</body>\n",
              "</html>"
            ]
          },
          "metadata": {}
        }
      ],
      "source": [
        "import numpy as np\n",
        "import pandas as pd\n",
        "import statsmodels.api as sm\n",
        "import plotly.express as px\n",
        "try :\n",
        "  from pandas_datareader import DataReader as pdr\n",
        "except :\n",
        "  !pip install pandas-datareader\n",
        "  from pandas_datareader import DataReader as pdr\n",
        "\n",
        "# associate names of French files with characteristic names\n",
        "files = {'Earnings to price ratio': 'Portfolios_Formed_on_E-P',\\\n",
        " 'Variance': 'Portfolios_Formed_on_VAR',\\\n",
        " 'Accruals': 'Portfolios_Formed_on_AC',\\\n",
        " 'Residual variance': 'Portfolios_Formed_on_RESVAR',\\\n",
        " 'Net equity issuance': 'Portfolios_Formed_on_NI',\\\n",
        " 'Beta': 'Portfolios_Formed_on_BETA',\\\n",
        " 'Cash flow to price': 'Portfolios_Formed_on_CF-P',\\\n",
        " 'Market equity': 'Portfolios_Formed_on_ME',\\\n",
        " 'Book to market ratio': 'Portfolios_Formed_on_BE-ME',\\\n",
        " 'Dividend to price ratio': 'Portfolios_Formed_on_D-P',\\\n",
        " 'Investment rate': 'Portfolios_Formed_on_INV',\\\n",
        " 'Momentum': '10_Portfolios_Prior_12_2',\\\n",
        " 'Short term reversal': '10_Portfolios_Prior_1_0',\\\n",
        " 'Long term reversal': '10_Portfolios_Prior_60_13'}\n",
        "\n",
        "# sort characteristics in alphabetical order\n",
        "keys = np.sort(list(files.keys()))\n",
        "\n",
        "# initialize data frame\n",
        "quintiles = ['Lo 20','Qnt 2','Qnt 3','Qnt 4','Hi 20']\n",
        "df = pd.DataFrame(dtype=float,index=range(1926,2022),columns=pd.MultiIndex.from_product((keys,quintiles)))\n",
        "\n",
        "# loop over files\n",
        "for key in keys :\n",
        "\n",
        "    # read file\n",
        "    f = files[key]\n",
        "    d = pdr(f,'famafrench',start=1920)[2]/100\n",
        "\n",
        "    # for momentum and reversal files, combine deciles to form quintiles\n",
        "    if 'Portfolios_Formed_on' not in f :\n",
        "        cols = d.columns.to_list()\n",
        "        d['Lo 20'] = d[cols[:2]].mean(axis=1)\n",
        "        d['Qnt 2'] = d[cols[2:4]].mean(axis=1)\n",
        "        d['Qnt 3'] = d[cols[4:6]].mean(axis=1)\n",
        "        d['Qnt 4'] = d[cols[6:8]].mean(axis=1)\n",
        "        d['Hi 20'] = d[cols[8:]].mean(axis=1)\n",
        "    \n",
        "    # for other files, extract quintiles\n",
        "    d = d[quintiles].copy()\n",
        "\n",
        "    # convert dates to integers\n",
        "    d = d.reset_index()\n",
        "    d['Date'] = d.Date.astype(str).astype(int)\n",
        "    d = d.set_index('Date')\n",
        "\n",
        "    # add to df\n",
        "    df[key] = d\n",
        "\n",
        "# create figure for single characteristic with given start date   \n",
        "def fig(key,start) :\n",
        "    d = df[key].stack()\n",
        "    d.name = 'Return'\n",
        "    d.index.names = ['Date','Quintile']\n",
        "    d = d.reset_index()\n",
        "    d = d[d.Date>=start]\n",
        "    fig = px.box(d, x='Quintile',y='Return')\n",
        "    fig.layout.xaxis['title'] = ''\n",
        "    fig.layout.yaxis['title'] = 'Return'\n",
        "    fig.update_layout(margin=dict(l=60, r=20, t=20, b=60)) \n",
        "    fig.update_xaxes(title_font_size=16) \n",
        "    fig.update_yaxes(title_font_size=16) \n",
        "    fig.update_layout(font_size=14)\n",
        "    fig.layout.template='plotly_dark'\n",
        "    fig.update_yaxes(tickformat='.0%')\n",
        "    return fig\n",
        "\n",
        "# example\n",
        "key = 'Momentum'\n",
        "start = 1970\n",
        "fig(key,start)"
      ]
    },
    {
      "cell_type": "code",
      "source": [
        ""
      ],
      "metadata": {
        "id": "r_5sb7nCaDFQ"
      },
      "execution_count": null,
      "outputs": []
    }
  ]
}