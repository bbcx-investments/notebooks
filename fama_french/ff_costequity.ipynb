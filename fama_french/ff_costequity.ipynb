{
  "nbformat": 4,
  "nbformat_minor": 0,
  "metadata": {
    "colab": {
      "name": "ff_costequity.ipynb",
      "provenance": [],
      "collapsed_sections": [],
      "include_colab_link": true
    },
    "kernelspec": {
      "name": "python3",
      "display_name": "Python 3"
    },
    "language_info": {
      "name": "python"
    }
  },
  "cells": [
    {
      "cell_type": "markdown",
      "metadata": {
        "id": "view-in-github",
        "colab_type": "text"
      },
      "source": [
        "<a href=\"https://colab.research.google.com/github/bbcx-investments/notebooks/blob/main/fama_french/ff_costequity.ipynb\" target=\"_parent\"><img src=\"https://colab.research.google.com/assets/colab-badge.svg\" alt=\"Open In Colab\"/></a>"
      ]
    },
    {
      "cell_type": "code",
      "execution_count": null,
      "metadata": {
        "colab": {
          "base_uri": "https://localhost:8080/"
        },
        "id": "vRlnTNXwbuBO",
        "outputId": "d425c601-b414-403d-a923-04340ee205e3"
      },
      "outputs": [
        {
          "output_type": "stream",
          "name": "stdout",
          "text": [
            "Requirement already satisfied: pandas-datareader in /usr/local/lib/python3.7/dist-packages (0.10.0)\n",
            "Requirement already satisfied: requests>=2.19.0 in /usr/local/lib/python3.7/dist-packages (from pandas-datareader) (2.23.0)\n",
            "Requirement already satisfied: lxml in /usr/local/lib/python3.7/dist-packages (from pandas-datareader) (4.2.6)\n",
            "Requirement already satisfied: pandas>=0.23 in /usr/local/lib/python3.7/dist-packages (from pandas-datareader) (1.3.5)\n",
            "Requirement already satisfied: numpy>=1.17.3 in /usr/local/lib/python3.7/dist-packages (from pandas>=0.23->pandas-datareader) (1.21.6)\n",
            "Requirement already satisfied: pytz>=2017.3 in /usr/local/lib/python3.7/dist-packages (from pandas>=0.23->pandas-datareader) (2022.1)\n",
            "Requirement already satisfied: python-dateutil>=2.7.3 in /usr/local/lib/python3.7/dist-packages (from pandas>=0.23->pandas-datareader) (2.8.2)\n",
            "Requirement already satisfied: six>=1.5 in /usr/local/lib/python3.7/dist-packages (from python-dateutil>=2.7.3->pandas>=0.23->pandas-datareader) (1.15.0)\n",
            "Requirement already satisfied: idna<3,>=2.5 in /usr/local/lib/python3.7/dist-packages (from requests>=2.19.0->pandas-datareader) (2.10)\n",
            "Requirement already satisfied: urllib3!=1.25.0,!=1.25.1,<1.26,>=1.21.1 in /usr/local/lib/python3.7/dist-packages (from requests>=2.19.0->pandas-datareader) (1.24.3)\n",
            "Requirement already satisfied: certifi>=2017.4.17 in /usr/local/lib/python3.7/dist-packages (from requests>=2.19.0->pandas-datareader) (2021.10.8)\n",
            "Requirement already satisfied: chardet<4,>=3.0.2 in /usr/local/lib/python3.7/dist-packages (from requests>=2.19.0->pandas-datareader) (3.0.4)\n"
          ]
        }
      ],
      "source": [
        "import warnings\n",
        "warnings.simplefilter(action='ignore', category=FutureWarning)\n",
        "\n",
        "import pandas as pd\n",
        "import numpy as np\n",
        "import statsmodels.api as sm\n",
        "!pip install --upgrade pandas-datareader  # need to upgrade to read Yahoo\n",
        "from pandas_datareader import DataReader as pdr\n",
        "\n",
        "# read annual original Fama-French factors from 1926 and compute means\n",
        "ff= pdr('F-F_Research_Data_Factors','famafrench',start=1926)[1]\n",
        "fprem = ff[['Mkt-RF','SMB','HML']].mean()\n",
        "\n",
        "# read CMA and RMW from 1964, compute means, and combine with other means\n",
        "ff= pdr('F-F_Research_Data_5_Factors_2x3','famafrench',start=1964)[1]\n",
        "fprem = pd.concat((fprem,ff[['RMW','CMA']].mean()))\n",
        "\n",
        "# read monthly Fama-French factors for past 60 months\n",
        "ff = pdr('F-F_Research_Data_5_Factors_2x3','famafrench',start=2017)[0]\n",
        "ff = ff.iloc[-60:]\n",
        "\n",
        "# read current 10-year Treasury yield from FRED\n",
        "rf = pdr('DGS10','fred',start=2022).iloc[-1].item()"
      ]
    },
    {
      "cell_type": "code",
      "source": [
        "# example ticker\n",
        "ticker = 'CVX'\n",
        "\n",
        "# compute monthly returns from Yahoo data\n",
        "# put returns in percent form to match French and FRED data\n",
        "data = pdr(ticker,'yahoo',start=2016)\n",
        "close = data['Adj Close'].resample('M').last()\n",
        "ret = 100*close.pct_change()\n",
        "ret.name = 'ret'\n",
        "\n",
        "# merge with French data, reducing to 60 months in the process\n",
        "ret.index = ret.index.to_period('M')\n",
        "df = ff.join(ret,how='left')\n",
        "\n",
        "# compute excess returns for the ticker \n",
        "df['ret'] -= df.RF\n",
        "\n",
        "# run regression of excess return on market excess return and get beta\n",
        "factors = ['Mkt-RF','SMB','HML','RMW','CMA']\n",
        "result = sm.OLS(df.ret,sm.add_constant(df[factors])).fit()\n",
        "betas = result.params[factors]\n",
        "\n",
        "# compute cost of equity\n",
        "print(ticker,'cost of equity is',rf+betas@fprem)"
      ],
      "metadata": {
        "colab": {
          "base_uri": "https://localhost:8080/"
        },
        "id": "9jNzB8ELgWw0",
        "outputId": "6e252890-17c9-42e9-aedc-9a57e6f3c58d"
      },
      "execution_count": null,
      "outputs": [
        {
          "output_type": "stream",
          "name": "stdout",
          "text": [
            "CVX cost of equity is 18.264007055879954\n"
          ]
        }
      ]
    }
  ]
}