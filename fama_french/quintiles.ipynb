{
  "cells": [
    {
      "cell_type": "markdown",
      "metadata": {
        "id": "view-in-github",
        "colab_type": "text"
      },
      "source": [
        "<a href=\"https://colab.research.google.com/github/bbcx-investments/notebooks/blob/main/fama_french/quintiles.ipynb\" target=\"_parent\"><img src=\"https://colab.research.google.com/assets/colab-badge.svg\" alt=\"Open In Colab\"/></a>"
      ]
    },
    {
      "cell_type": "code",
      "execution_count": null,
      "outputs": [
        {
          "data": {
            "text/plain": "     Book to market ratio                                \n                    Lo 20   Qnt 2   Qnt 3   Qnt 4   Hi 20\n1926                  NaN     NaN     NaN     NaN     NaN\n1927               0.4488  0.3117  0.2308  0.2686  0.4066\n1928               0.4842  0.3814  0.3469  0.2270  0.3597\n1929              -0.2184 -0.0958 -0.0237 -0.0349 -0.1149\n1930              -0.2611 -0.2682 -0.2786 -0.3905 -0.5115\n...                   ...     ...     ...     ...     ...\n2017               0.3158  0.2027  0.1602  0.1520  0.1638\n2018               0.0075 -0.0208 -0.0944 -0.1168 -0.1842\n2019               0.3684  0.2665  0.3000  0.2258  0.2372\n2020               0.4205  0.1955  0.0782 -0.1070 -0.0003\n2021               0.2336  0.2559  0.2059  0.3161  0.4097\n\n[96 rows x 5 columns]",
            "text/html": "<div>\n<style scoped>\n    .dataframe tbody tr th:only-of-type {\n        vertical-align: middle;\n    }\n\n    .dataframe tbody tr th {\n        vertical-align: top;\n    }\n\n    .dataframe thead tr th {\n        text-align: left;\n    }\n</style>\n<table border=\"1\" class=\"dataframe\">\n  <thead>\n    <tr>\n      <th></th>\n      <th colspan=\"5\" halign=\"left\">Book to market ratio</th>\n    </tr>\n    <tr>\n      <th></th>\n      <th>Lo 20</th>\n      <th>Qnt 2</th>\n      <th>Qnt 3</th>\n      <th>Qnt 4</th>\n      <th>Hi 20</th>\n    </tr>\n  </thead>\n  <tbody>\n    <tr>\n      <th>1926</th>\n      <td>NaN</td>\n      <td>NaN</td>\n      <td>NaN</td>\n      <td>NaN</td>\n      <td>NaN</td>\n    </tr>\n    <tr>\n      <th>1927</th>\n      <td>0.4488</td>\n      <td>0.3117</td>\n      <td>0.2308</td>\n      <td>0.2686</td>\n      <td>0.4066</td>\n    </tr>\n    <tr>\n      <th>1928</th>\n      <td>0.4842</td>\n      <td>0.3814</td>\n      <td>0.3469</td>\n      <td>0.2270</td>\n      <td>0.3597</td>\n    </tr>\n    <tr>\n      <th>1929</th>\n      <td>-0.2184</td>\n      <td>-0.0958</td>\n      <td>-0.0237</td>\n      <td>-0.0349</td>\n      <td>-0.1149</td>\n    </tr>\n    <tr>\n      <th>1930</th>\n      <td>-0.2611</td>\n      <td>-0.2682</td>\n      <td>-0.2786</td>\n      <td>-0.3905</td>\n      <td>-0.5115</td>\n    </tr>\n    <tr>\n      <th>...</th>\n      <td>...</td>\n      <td>...</td>\n      <td>...</td>\n      <td>...</td>\n      <td>...</td>\n    </tr>\n    <tr>\n      <th>2017</th>\n      <td>0.3158</td>\n      <td>0.2027</td>\n      <td>0.1602</td>\n      <td>0.1520</td>\n      <td>0.1638</td>\n    </tr>\n    <tr>\n      <th>2018</th>\n      <td>0.0075</td>\n      <td>-0.0208</td>\n      <td>-0.0944</td>\n      <td>-0.1168</td>\n      <td>-0.1842</td>\n    </tr>\n    <tr>\n      <th>2019</th>\n      <td>0.3684</td>\n      <td>0.2665</td>\n      <td>0.3000</td>\n      <td>0.2258</td>\n      <td>0.2372</td>\n    </tr>\n    <tr>\n      <th>2020</th>\n      <td>0.4205</td>\n      <td>0.1955</td>\n      <td>0.0782</td>\n      <td>-0.1070</td>\n      <td>-0.0003</td>\n    </tr>\n    <tr>\n      <th>2021</th>\n      <td>0.2336</td>\n      <td>0.2559</td>\n      <td>0.2059</td>\n      <td>0.3161</td>\n      <td>0.4097</td>\n    </tr>\n  </tbody>\n</table>\n<p>96 rows × 5 columns</p>\n</div>"
          },
          "execution_count": 10,
          "metadata": {},
          "output_type": "execute_result"
        }
      ],
      "source": [
        "import numpy as np\n",
        "import pandas as pd\n",
        "from pandas_datareader import DataReader as pdr\n",
        "\n",
        "files = {\n",
        "    \"Earnings to price ratio\": \"Portfolios_Formed_on_E-P\",\n",
        "    \"Variance\": \"Portfolios_Formed_on_VAR\",\n",
        "    \"Accruals\": \"Portfolios_Formed_on_AC\",\n",
        "    \"Residual variance\": \"Portfolios_Formed_on_RESVAR\",\n",
        "    \"Net equity issuance\": \"Portfolios_Formed_on_NI\",\n",
        "    \"Beta\": \"Portfolios_Formed_on_BETA\",\n",
        "    \"Cash flow to price\": \"Portfolios_Formed_on_CF-P\",\n",
        "    \"Market equity\": \"Portfolios_Formed_on_ME\",\n",
        "    \"Book to market ratio\": \"Portfolios_Formed_on_BE-ME\",\n",
        "    \"Dividend to price ratio\": \"Portfolios_Formed_on_D-P\",\n",
        "    \"Investment rate\": \"Portfolios_Formed_on_INV\",\n",
        "    \"Momentum\": \"10_Portfolios_Prior_12_2\",\n",
        "    \"Short term reversal\": \"10_Portfolios_Prior_1_0\",\n",
        "    \"Long term reversal\": \"10_Portfolios_Prior_60_13\",\n",
        "}\n",
        "\n",
        "keys = np.sort(list(files.keys()))\n",
        "key = \"Book to market ratio\"                # example characteristic\n",
        "\n",
        "quintiles = [\"Lo 20\", \"Qnt 2\", \"Qnt 3\", \"Qnt 4\", \"Hi 20\"]\n",
        "\n",
        "df = pd.DataFrame(\n",
        "    dtype=float,\n",
        "    index=range(1926, 2022),\n",
        "    columns=pd.MultiIndex.from_product(([key], quintiles)),\n",
        ")\n",
        "f = files[key]\n",
        "d = pdr(f, \"famafrench\", start=1926)\n",
        "d = d[2] / 100\n",
        "if \"Portfolios_Formed_on\" not in f:\n",
        "    cols = d.columns.to_list()\n",
        "    d[\"Lo 20\"] = d[cols[:2]].mean(axis=1)\n",
        "    d[\"Qnt 2\"] = d[cols[2:4]].mean(axis=1)\n",
        "    d[\"Qnt 3\"] = d[cols[4:6]].mean(axis=1)\n",
        "    d[\"Qnt 4\"] = d[cols[6:8]].mean(axis=1)\n",
        "    d[\"Hi 20\"] = d[cols[8:]].mean(axis=1)\n",
        "d = d[quintiles]\n",
        "d = d.reset_index()\n",
        "d[\"Date\"] = d.Date.astype(str).astype(int)\n",
        "d = d.set_index(\"Date\")\n",
        "df[key] = d\n",
        "\n",
        "df"
      ],
      "metadata": {
        "pycharm": {
          "name": "#%%\n"
        },
        "id": "LJyvBPk8W9EB",
        "outputId": "1aaa8fe2-7a92-44d0-937e-645f03e3281e"
      }
    },
    {
      "cell_type": "code",
      "execution_count": null,
      "outputs": [],
      "source": [
        ""
      ],
      "metadata": {
        "pycharm": {
          "name": "#%%\n"
        },
        "id": "yKlzIwOYW9EE"
      }
    },
    {
      "cell_type": "code",
      "execution_count": null,
      "outputs": [],
      "source": [
        ""
      ],
      "metadata": {
        "pycharm": {
          "name": "#%%\n"
        },
        "id": "lIoybPH2W9EF"
      }
    }
  ],
  "metadata": {
    "kernelspec": {
      "display_name": "Python 3",
      "language": "python",
      "name": "python3"
    },
    "language_info": {
      "codemirror_mode": {
        "name": "ipython",
        "version": 2
      },
      "file_extension": ".py",
      "mimetype": "text/x-python",
      "name": "python",
      "nbconvert_exporter": "python",
      "pygments_lexer": "ipython2",
      "version": "2.7.6"
    },
    "colab": {
      "name": "quintiles.ipynb",
      "provenance": [],
      "include_colab_link": true
    }
  },
  "nbformat": 4,
  "nbformat_minor": 0
}