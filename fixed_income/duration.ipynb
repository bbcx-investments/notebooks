{
  "nbformat": 4,
  "nbformat_minor": 0,
  "metadata": {
    "colab": {
      "name": "Untitled0.ipynb",
      "provenance": [],
      "authorship_tag": "ABX9TyN6Brms3kg1fpacBwaw8oeZ",
      "include_colab_link": true
    },
    "kernelspec": {
      "name": "python3",
      "display_name": "Python 3"
    },
    "language_info": {
      "name": "python"
    }
  },
  "cells": [
    {
      "cell_type": "markdown",
      "metadata": {
        "id": "view-in-github",
        "colab_type": "text"
      },
      "source": [
        "<a href=\"https://colab.research.google.com/github/bbcx-investments/notebooks/blob/main/fixed_income/duration.ipynb\" target=\"_parent\"><img src=\"https://colab.research.google.com/assets/colab-badge.svg\" alt=\"Open In Colab\"/></a>"
      ]
    },
    {
      "cell_type": "code",
      "execution_count": 4,
      "metadata": {
        "colab": {
          "base_uri": "https://localhost:8080/"
        },
        "id": "Kn_q_6tWWzCK",
        "outputId": "0e7f9572-b445-4c7f-9141-9737a1dae862"
      },
      "outputs": [
        {
          "output_type": "stream",
          "name": "stdout",
          "text": [
            "The macaulay duration of this 5 -year constant maturity bond with yield at  5.0 % and  6.0 % annual coupon rate is 4.408\n"
          ]
        }
      ],
      "source": [
        "import numpy as np\n",
        "\n",
        "# Example\n",
        "face_value = 100\n",
        "maturity = 5\n",
        "coupon_rate = 0.06 # annual coupon rate\n",
        "yld = 0.05     # bond yield\n",
        "\n",
        "n = int(maturity * 2) # number of periods: coupon are paid per semi-year\n",
        "coupon = coupon_rate*100 / 2 # coupon in $\n",
        "cashFlows = [coupon] * n \n",
        "cashFlows[-1] += 100\n",
        "\n",
        "# discount factor at the bond yield\n",
        "factor = 1 / (1 + yld / 2) ** np.arange(1, n + 1) \n",
        "\n",
        "# percent of the bond value that the pv of the cash flow contributes\n",
        "pv = cashFlows * factor \n",
        "pct = pv / (sum(pv)) \n",
        "\n",
        "# year x pct\n",
        "year_pct = np.arange(0.5, (n + 1) / 2, 0.5) * pct \n",
        "\n",
        "# Macaulay duration of this bond\n",
        "macaulay = sum(year_pct).round(3)\n",
        "print(\"The macaulay duration of this\", maturity, \"-year constant maturity bond with yield at \", yld*100, \n",
        "      \"% and \", coupon_rate*100, \"% annual coupon rate\", \"is\", macaulay)"
      ]
    },
    {
      "cell_type": "code",
      "source": [
        "# Modified duration of this bond\n",
        "modified = macaulay / (1 + yld / 2)\n",
        "print(\"The modified duration of this\", maturity, \"-year constant maturity bond with yield at \", yld*100, \n",
        "      \"% and \", coupon_rate*100, \"% annual coupon rate\", \"is\", modified.round(3))"
      ],
      "metadata": {
        "colab": {
          "base_uri": "https://localhost:8080/"
        },
        "id": "-9GyywlKXo93",
        "outputId": "b15a8083-ea2f-4a36-fa5e-8190695ea3e8"
      },
      "execution_count": 7,
      "outputs": [
        {
          "output_type": "stream",
          "name": "stdout",
          "text": [
            "The modified duration of this 5 -year constant maturity bond with yield at  5.0 % and  6.0 % annual coupon rate is 4.3\n"
          ]
        }
      ]
    },
    {
      "cell_type": "code",
      "source": [
        ""
      ],
      "metadata": {
        "id": "6balJ0GLX6Gw"
      },
      "execution_count": null,
      "outputs": []
    }
  ]
}