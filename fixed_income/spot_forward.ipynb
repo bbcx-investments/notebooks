{
  "nbformat": 4,
  "nbformat_minor": 0,
  "metadata": {
    "colab": {
      "name": "spot_forward.ipynb",
      "provenance": [],
      "authorship_tag": "ABX9TyPGNoeQDfq+JEPc72i1znLK",
      "include_colab_link": true
    },
    "kernelspec": {
      "name": "python3",
      "display_name": "Python 3"
    },
    "language_info": {
      "name": "python"
    }
  },
  "cells": [
    {
      "cell_type": "markdown",
      "metadata": {
        "id": "view-in-github",
        "colab_type": "text"
      },
      "source": [
        "<a href=\"https://colab.research.google.com/github/bbcx-investments/notebooks/blob/main/fixed_income/spot_forward.ipynb\" target=\"_parent\"><img src=\"https://colab.research.google.com/assets/colab-badge.svg\" alt=\"Open In Colab\"/></a>"
      ]
    },
    {
      "cell_type": "code",
      "execution_count": 1,
      "metadata": {
        "id": "y4H5RbkGSkMd"
      },
      "outputs": [],
      "source": [
        "from scipy.optimize import minimize\n",
        "import numpy as np"
      ]
    },
    {
      "cell_type": "code",
      "source": [
        "# Example\n",
        "num = 5     # number of bonds\n",
        "\n",
        "# bond 1 - 5\n",
        "maturity = [2, 4, 6, 8, 10]\n",
        "coupon_rate = [0.04, 0.04, 0.04, 0.04, 0.04]\n",
        "yld = [0.02, 0.03, 0.04, 0.05, 0.06]\n",
        "bonds = [{\"maturity\": 2, \"coupon\": 0.04, \"yld\": 0.02},\n",
        "      {\"maturity\": 4, \"coupon\":  0.04, \"yld\": 0.03},\n",
        "      {\"maturity\": 6, \"coupon\":  0.04, \"yld\": 0.04},\n",
        "      {\"maturity\": 8, \"coupon\":  0.04, \"yld\": 0.05},\n",
        "      {\"maturity\": 10, \"coupon\":  0.04, \"yld\": 0.06}]\n",
        "\n",
        "# max periods\n",
        "maxmaturity = np.max([bond['maturity'] for bond in bonds])\n",
        "max_n = 2 * maxmaturity"
      ],
      "metadata": {
        "id": "Ey5KP-GuSngA"
      },
      "execution_count": 2,
      "outputs": []
    },
    {
      "cell_type": "code",
      "source": [
        "# Yields, spot rates, and forward rates are computed with semi-annual compounding\n",
        "def objective(bonds, spots):\n",
        "    # error\n",
        "    error = []\n",
        "    for bond in bonds:\n",
        "        coupon = 100 * bond['coupon'] / 2\n",
        "        yld_2 = bond['yld'] / 2\n",
        "        n = int(2 * bond['maturity'])\n",
        "        p = coupon * np.sum((1 + yld_2) ** np.arange(-1, -n - 1, -1)) + 100 / (1 + yld_2) ** n\n",
        "        spot = np.array(spots[:n]) / 2\n",
        "        phat = coupon * np.sum((1 + spot[:n]) ** np.arange(-1, -n - 1, -1)) + 100 / (1 + spot[n - 1]) ** n\n",
        "        error.append(np.log(phat / p))        \n",
        "    sse = np.sum([e ** 2 for e in error])\n",
        "\n",
        "    # forward rates\n",
        "    future_factors = (1+spots/2)**np.arange(1,len(spots)+1)\n",
        "    change_logs = np.diff(np.log(future_factors))\n",
        "    f = 2 * (np.exp(change_logs)-1)\n",
        "    forwards = np.concatenate(([spots[0]], f))\n",
        "\n",
        "    diffs = np.sum(np.diff(np.log(1+forwards/2))**2)\n",
        "    return sse + 0.5*diffs\n",
        "\n",
        "# Spot rates are yields of hypothetical zero-coupon bonds\n",
        "spot_rate = minimize(lambda x: objective(bonds, x), [0.05]*max_n).x\n",
        "print('The spot rate for the maturity of 10 years is {:.2%}'.format(spot_rate[-1]))"
      ],
      "metadata": {
        "colab": {
          "base_uri": "https://localhost:8080/"
        },
        "id": "UIfQIiNqSsi6",
        "outputId": "cbee2043-993f-4130-b7bd-095670e81680"
      },
      "execution_count": 8,
      "outputs": [
        {
          "output_type": "stream",
          "name": "stdout",
          "text": [
            "The spot rate for the maturity of 10 years is 6.42%\n"
          ]
        }
      ]
    },
    {
      "cell_type": "code",
      "source": [
        "print('The yield for the 10-year maturity bond is {:.2%}'.format(bonds[-1]['yld']))"
      ],
      "metadata": {
        "colab": {
          "base_uri": "https://localhost:8080/"
        },
        "id": "yAKS88VwWk6G",
        "outputId": "9b1fdfaa-1184-401c-b34c-94b349dc3974"
      },
      "execution_count": 11,
      "outputs": [
        {
          "output_type": "stream",
          "name": "stdout",
          "text": [
            "The yield for the 10-year maturity bond is 6.00%\n"
          ]
        }
      ]
    },
    {
      "cell_type": "code",
      "source": [
        "# Forward rates are the rates that could be locked in for forward loans by trading the hypothetical zero-coupon bonds\n",
        "future_factors = (1+spot_rate/2)**np.arange(1,len(spot_rate)+1)\n",
        "change_logs = np.diff(np.log(future_factors))\n",
        "f = 2 * (np.exp(change_logs)-1)\n",
        "forwards_rate = np.concatenate(([spot_rate[0]], f))\n",
        "print('The spot rate for the maturity of 10 years is {:.2%}'.format(forwards_rate[-1]))"
      ],
      "metadata": {
        "colab": {
          "base_uri": "https://localhost:8080/"
        },
        "id": "SsFCslD3ZIym",
        "outputId": "da619f57-fe4a-41d0-ea2d-d02d7a15e247"
      },
      "execution_count": 12,
      "outputs": [
        {
          "output_type": "stream",
          "name": "stdout",
          "text": [
            "The spot rate for the maturity of 10 years is 11.59%\n"
          ]
        }
      ]
    },
    {
      "cell_type": "code",
      "source": [
        ""
      ],
      "metadata": {
        "id": "WR5VWZOaZNOu"
      },
      "execution_count": null,
      "outputs": []
    }
  ]
}