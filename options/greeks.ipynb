{
  "cells": [
    {
      "cell_type": "markdown",
      "metadata": {
        "id": "view-in-github",
        "colab_type": "text"
      },
      "source": [
        "<a href=\"https://colab.research.google.com/github/bbcx-investments/notebooks/blob/main/options/greeks.ipynb\" target=\"_parent\"><img src=\"https://colab.research.google.com/assets/colab-badge.svg\" alt=\"Open In Colab\"/></a>"
      ]
    },
    {
      "cell_type": "code",
      "execution_count": null,
      "outputs": [],
      "source": [
        "import numpy as np\n",
        "from scipy.stats import norm\n",
        "\n",
        "# example parameters\n",
        "S = 50\n",
        "K = 50\n",
        "T = 1\n",
        "sigma = 0.4\n",
        "r = 0.02\n",
        "q = 0.03\n",
        "\n",
        "# preliminary calculations\n",
        "\n",
        "d1 = (np.log(s/K) + (r-q+0.5*sigma**2)*T) / (sigma*np.sqrt(T))\n",
        "d2 = d1 - sigma*np.sqrt(T)\n",
        "qT = np.exp(-q*T)\n",
        "rT = np.exp(-r*T)\n",
        "\n",
        "# call greeks\n",
        "\n",
        "N1 = norm.cdf(d1)\n",
        "N2 = norm.cdf(d2)\n",
        "n1 = norm.pdf(d1)\n",
        "n2 = norm.pdf(d2)\n",
        "\n",
        "call_delta = delta = qT*N1\n",
        "call_gamma = qT*n1 / (S*sigma*np.sqrt(T))\n",
        "call_theta = q*qT*S*N1 -r*rT*K*N2 - qT*n1*S*sigma / (2*np.sqrt(T))\n",
        "call_vega = qT*S*N1*np.sqrt(T)\n",
        "call_rho = T*rT*K*N2\n",
        "\n",
        "# put Greeks\n",
        "\n",
        "N1 = norm.cdf(-d1)\n",
        "N2 = norm.cdf(-d2)\n",
        "\n",
        "put_delta = qT*N1\n",
        "put_gamma = call_gamma\n",
        "put_theta = r*rT*K*N2 - q*qT*S*N1 -qT*n1*S*sigma / (2*np.sqrt(T))\n",
        "put_vega = call_vega\n",
        "put_rho = -T*rT*N2"
      ],
      "metadata": {
        "pycharm": {
          "name": "#%%\n"
        },
        "id": "-KHAaIOySBZk"
      }
    },
    {
      "cell_type": "code",
      "execution_count": null,
      "outputs": [],
      "source": [
        "\n",
        "\n",
        "\n",
        "      \n",
        "     "
      ],
      "metadata": {
        "pycharm": {
          "name": "#%%\n"
        },
        "id": "xVXYIFybSBZm"
      }
    },
    {
      "cell_type": "code",
      "execution_count": null,
      "outputs": [],
      "source": [
        ""
      ],
      "metadata": {
        "pycharm": {
          "name": "#%%\n"
        },
        "id": "Llw38xzCSBZr"
      }
    }
  ],
  "metadata": {
    "kernelspec": {
      "display_name": "Python 3",
      "language": "python",
      "name": "python3"
    },
    "language_info": {
      "codemirror_mode": {
        "name": "ipython",
        "version": 2
      },
      "file_extension": ".py",
      "mimetype": "text/x-python",
      "name": "python",
      "nbconvert_exporter": "python",
      "pygments_lexer": "ipython2",
      "version": "2.7.6"
    },
    "colab": {
      "name": "option_greeks.ipynb",
      "provenance": [],
      "include_colab_link": true
    }
  },
  "nbformat": 4,
  "nbformat_minor": 0
}