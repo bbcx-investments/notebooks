{
  "cells": [
    {
      "cell_type": "markdown",
      "metadata": {
        "id": "view-in-github",
        "colab_type": "text"
      },
      "source": [
        "<a href=\"https://colab.research.google.com/github/bbcx-investments/notebooks/blob/main/options/implied_volatilities.ipynb\" target=\"_parent\"><img src=\"https://colab.research.google.com/assets/colab-badge.svg\" alt=\"Open In Colab\"/></a>"
      ]
    },
    {
      "cell_type": "code",
      "execution_count": 1,
      "outputs": [],
      "source": [
        "import numpy as np\n",
        "from scipy.stats import norm\n",
        "from scipy.optimize import fsolve\n",
        "\n",
        "# example parameters\n",
        "S = 50\n",
        "K = 55\n",
        "T = 1\n",
        "v = 10\n",
        "r = 0.02\n",
        "q = 0.03\n"
      ],
      "metadata": {
        "pycharm": {
          "name": "#%%\n"
        },
        "id": "1v4z7VhjXOwD"
      }
    },
    {
      "cell_type": "markdown",
      "source": [
        "### Call"
      ],
      "metadata": {
        "collapsed": false,
        "pycharm": {
          "name": "#%% md\n"
        },
        "id": "ua0wFhweXOwG"
      }
    },
    {
      "cell_type": "code",
      "execution_count": 2,
      "outputs": [
        {
          "output_type": "stream",
          "name": "stderr",
          "text": [
            "/usr/local/lib/python3.7/dist-packages/scipy/optimize/minpack.py:162: RuntimeWarning: The iteration is not making good progress, as measured by the \n",
            "  improvement from the last ten iterations.\n",
            "  warnings.warn(msg, RuntimeWarning)\n"
          ]
        },
        {
          "output_type": "execute_result",
          "data": {
            "text/plain": [
              "array([0.2])"
            ]
          },
          "metadata": {},
          "execution_count": 2
        }
      ],
      "source": [
        "# return Black-Sholes value - option premium\n",
        "def putFunc(sigma, *args) :\n",
        "    s, K, T, r, q, v = args\n",
        "    d1 = ( np.log(s/K) + (r-q+0.5*sigma**2)*T ) / (sigma*np.sqrt(T))\n",
        "\n",
        "# find sigma (the implied volatily) such that the Black-Scholes Value of the option is equal to the option premium\n",
        "inpt = (S, K, T, r, q, v)\n",
        "sigma_0 = 0.2               # initial value\n",
        "sol = fsolve(putFunc, sigma_0, args=inpt)\n",
        "sol"
      ],
      "metadata": {
        "pycharm": {
          "name": "#%%\n"
        },
        "colab": {
          "base_uri": "https://localhost:8080/"
        },
        "id": "rdYM5xMwXOwH",
        "outputId": "8b641248-feaa-46ec-a103-01578122521c"
      }
    },
    {
      "cell_type": "markdown",
      "source": [
        "## Put"
      ],
      "metadata": {
        "collapsed": false,
        "pycharm": {
          "name": "#%% md\n"
        },
        "id": "Nhw5XUgUXOwJ"
      }
    },
    {
      "cell_type": "code",
      "execution_count": 3,
      "outputs": [
        {
          "output_type": "execute_result",
          "data": {
            "text/plain": [
              "array([0.3434665])"
            ]
          },
          "metadata": {},
          "execution_count": 3
        }
      ],
      "source": [
        "# return Black-Sholes value - option premium\n",
        "def putFunc(sigma, *args) :\n",
        "    s, K, T, r, q, v = args\n",
        "    d1 = ( np.log(s/K) + (r-q+0.5*sigma**2)*T ) / (sigma*np.sqrt(T))\n",
        "    d2 = d1 - sigma*np.sqrt(T)\n",
        "    return np.exp(-r*T)*K*norm.cdf(-d2) - np.exp(-q*T)*s*norm.cdf(-d1) - v\n",
        "\n",
        "# find sigma (the implied volatily) such that the Black-Scholes Value of the option is equal to the option premium\n",
        "inpt = (S, K, T, r, q, v)\n",
        "sigma_0 = 0.2               # initial value\n",
        "sol = fsolve(putFunc, sigma_0, args=inpt)\n",
        "sol"
      ],
      "metadata": {
        "pycharm": {
          "name": "#%%\n"
        },
        "colab": {
          "base_uri": "https://localhost:8080/"
        },
        "id": "gdJc97zhXOwJ",
        "outputId": "7dfbe675-f8a5-4aab-cc2b-9e713edb8f3a"
      }
    },
    {
      "cell_type": "code",
      "execution_count": null,
      "outputs": [],
      "source": [
        ""
      ],
      "metadata": {
        "pycharm": {
          "name": "#%%\n"
        },
        "id": "FCeUNpryXOwK"
      }
    }
  ],
  "metadata": {
    "kernelspec": {
      "display_name": "Python 3",
      "language": "python",
      "name": "python3"
    },
    "language_info": {
      "codemirror_mode": {
        "name": "ipython",
        "version": 2
      },
      "file_extension": ".py",
      "mimetype": "text/x-python",
      "name": "python",
      "nbconvert_exporter": "python",
      "pygments_lexer": "ipython2",
      "version": "2.7.6"
    },
    "colab": {
      "name": "implied_volatility.ipynb",
      "provenance": [],
      "include_colab_link": true
    }
  },
  "nbformat": 4,
  "nbformat_minor": 0
}