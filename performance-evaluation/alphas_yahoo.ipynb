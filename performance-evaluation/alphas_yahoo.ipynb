{
  "nbformat": 4,
  "nbformat_minor": 0,
  "metadata": {
    "colab": {
      "name": "alphas_yahoo.ipynb",
      "provenance": [],
      "collapsed_sections": [],
      "include_colab_link": true
    },
    "kernelspec": {
      "name": "python3",
      "display_name": "Python 3"
    },
    "language_info": {
      "name": "python"
    }
  },
  "cells": [
    {
      "cell_type": "markdown",
      "metadata": {
        "id": "view-in-github",
        "colab_type": "text"
      },
      "source": [
        "<a href=\"https://colab.research.google.com/github/bbcx-investments/notebooks/blob/main/performance-evaluation/alphas_yahoo.ipynb\" target=\"_parent\"><img src=\"https://colab.research.google.com/assets/colab-badge.svg\" alt=\"Open In Colab\"/></a>"
      ]
    },
    {
      "cell_type": "code",
      "execution_count": null,
      "metadata": {
        "colab": {
          "base_uri": "https://localhost:8080/"
        },
        "id": "Ghd0mfdWRkvJ",
        "outputId": "de7c79d9-adab-47c6-8c11-377562bdf2ad"
      },
      "outputs": [
        {
          "output_type": "stream",
          "name": "stdout",
          "text": [
            "Looking in indexes: https://pypi.org/simple, https://us-python.pkg.dev/colab-wheels/public/simple/\n",
            "Requirement already satisfied: pandas-datareader in /usr/local/lib/python3.7/dist-packages (0.10.0)\n",
            "Requirement already satisfied: lxml in /usr/local/lib/python3.7/dist-packages (from pandas-datareader) (4.2.6)\n",
            "Requirement already satisfied: requests>=2.19.0 in /usr/local/lib/python3.7/dist-packages (from pandas-datareader) (2.23.0)\n",
            "Requirement already satisfied: pandas>=0.23 in /usr/local/lib/python3.7/dist-packages (from pandas-datareader) (1.3.5)\n",
            "Requirement already satisfied: numpy>=1.17.3 in /usr/local/lib/python3.7/dist-packages (from pandas>=0.23->pandas-datareader) (1.21.6)\n",
            "Requirement already satisfied: pytz>=2017.3 in /usr/local/lib/python3.7/dist-packages (from pandas>=0.23->pandas-datareader) (2022.1)\n",
            "Requirement already satisfied: python-dateutil>=2.7.3 in /usr/local/lib/python3.7/dist-packages (from pandas>=0.23->pandas-datareader) (2.8.2)\n",
            "Requirement already satisfied: six>=1.5 in /usr/local/lib/python3.7/dist-packages (from python-dateutil>=2.7.3->pandas>=0.23->pandas-datareader) (1.15.0)\n",
            "Requirement already satisfied: certifi>=2017.4.17 in /usr/local/lib/python3.7/dist-packages (from requests>=2.19.0->pandas-datareader) (2022.6.15)\n",
            "Requirement already satisfied: idna<3,>=2.5 in /usr/local/lib/python3.7/dist-packages (from requests>=2.19.0->pandas-datareader) (2.10)\n",
            "Requirement already satisfied: urllib3!=1.25.0,!=1.25.1,<1.26,>=1.21.1 in /usr/local/lib/python3.7/dist-packages (from requests>=2.19.0->pandas-datareader) (1.24.3)\n",
            "Requirement already satisfied: chardet<4,>=3.0.2 in /usr/local/lib/python3.7/dist-packages (from requests>=2.19.0->pandas-datareader) (3.0.4)\n"
          ]
        }
      ],
      "source": [
        "import warnings\n",
        "warnings.simplefilter(action='ignore', category=FutureWarning)\n",
        "\n",
        "import pandas as pd\n",
        "import numpy as np\n",
        "import statsmodels.api as sm\n",
        "import seaborn as sns\n",
        "sns.set_style('whitegrid')\n",
        "!pip install --upgrade pandas-datareader\n",
        "from pandas_datareader import DataReader as pdr\n",
        "\n",
        "\n",
        "# get monthly market excess return and risk-free rate starting in 1970 from French's data library\n",
        "ff = pdr('F-F_Research_Data_Factors','famafrench',start=1970)[0]"
      ]
    },
    {
      "cell_type": "code",
      "source": [
        "# example ticker\n",
        "ticker = 'VTSMX'\n",
        "\n",
        "# compute monthly returns from Yahoo data\n",
        "# put returns in percent form to match French and FRED data\n",
        "data = pdr(ticker,'yahoo',start=1970)\n",
        "close = data['Adj Close'].resample('M').last()\n",
        "ret = 100*close.pct_change()\n",
        "ret.name = 'ret'\n",
        "\n",
        "# merge with French data, reducing to 60 months in the process\n",
        "ret.index = ret.index.to_period('M')\n",
        "df = ff.join(ret,how='inner')\n",
        "\n",
        "# compute excess returns for the ticker \n",
        "df['ret'] -= df.RF"
      ],
      "metadata": {
        "id": "5HLjaM2JxKtd"
      },
      "execution_count": null,
      "outputs": []
    },
    {
      "cell_type": "code",
      "source": [
        "\n",
        "\n",
        "# run regression of excess return on market excess return and get beta\n",
        "result = sm.OLS(df.ret,sm.add_constant(df['Mkt-RF']),missing='drop').fit()\n",
        "alpha = result.params['const']\n",
        "beta = result.params['Mkt-RF']\n",
        "\n",
        "t_alpha = result.tvalues['const']\n",
        "rsquared_adj = result.rsquared_adj\n",
        "\n",
        "# print annualized alpha\n",
        "print(ticker,'annual alpha (%) is', np.round(alpha*12,3),'\\n')\n",
        "\n",
        "# print annualized alpha\n",
        "print(ticker,'t-statistic of alpha is', np.round(t_alpha,3),'\\n')\n",
        "\n",
        "# print beta\n",
        "print(ticker,'beta is', np.round(beta,3),'\\n')\n",
        "\n",
        "# print rsquared_adj\n",
        "print(ticker,'R-squared is', np.round(rsquared_adj,3),'\\n')\n",
        "\n"
      ],
      "metadata": {
        "id": "1EMboEF1yQ_5",
        "outputId": "e66e5a22-d3a7-4695-96d5-30bdbf7ffe6c",
        "colab": {
          "base_uri": "https://localhost:8080/"
        }
      },
      "execution_count": null,
      "outputs": [
        {
          "output_type": "stream",
          "name": "stdout",
          "text": [
            "VTSMX annual alpha (%) is -0.178 \n",
            "\n",
            "VTSMX t-statistic of alpha is -1.622 \n",
            "\n",
            "VTSMX beta is 0.994 \n",
            "\n",
            "VTSMX R-squared is 0.998 \n",
            "\n"
          ]
        }
      ]
    },
    {
      "cell_type": "code",
      "source": [
        "# plot regression\n",
        "sns.regplot(data=df,x='Mkt-RF',y='ret',ci=None)"
      ],
      "metadata": {
        "colab": {
          "base_uri": "https://localhost:8080/",
          "height": 301
        },
        "id": "nhBcm1MVSdXY",
        "outputId": "097f6276-0804-48af-c21c-5932164e8248"
      },
      "execution_count": null,
      "outputs": [
        {
          "output_type": "execute_result",
          "data": {
            "text/plain": [
              "<matplotlib.axes._subplots.AxesSubplot at 0x7fa8ae1bddd0>"
            ]
          },
          "metadata": {},
          "execution_count": 38
        },
        {
          "output_type": "display_data",
          "data": {
            "text/plain": [
              "<Figure size 432x288 with 1 Axes>"
            ],
            "image/png": "[encoded data removed]"
          },
          "metadata": {}
        }
      ]
    }
  ]
}