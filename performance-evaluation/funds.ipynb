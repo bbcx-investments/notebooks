{
 "cells": [
  {
   "cell_type": "code",
   "execution_count": 51,
   "outputs": [],
   "source": [
    "import numpy as np\n",
    "import pandas as pd\n",
    "import plotly.graph_objects as go\n",
    "import plotly.express as px\n",
    "from pandas_datareader import DataReader as pdr\n",
    "import statsmodels.api as sm\n",
    "from dash.dash_table import DataTable\n",
    "import dash_bootstrap_components as dbc\n",
    "from dash import dcc, html\n",
    "from scipy.stats import ttest_1samp as ttest\n",
    "\n",
    "# ff_monthly data\n",
    "ff3 = pdr('F-F_Research_Data_Factors','famafrench', start=1900)[0]/100\n",
    "ff5 = pdr('F-F_Research_Data_5_Factors_2x3','famafrench', start=1900)[0]/100\n",
    "Mom = pdr('F-F_Momentum_Factor','famafrench', start=1900)[0]/100\n",
    "ST_Rev = pdr('F-F_ST_Reversal_Factor','famafrench', start=1900)[0]/100\n",
    "LT_Rev = pdr('F-F_LT_Reversal_Factor','famafrench', start=1900)[0]/100\n",
    "ff48 = pdr(\"48_Industry_Portfolios\", \"famafrench\", start=1900)[0]/100\n",
    "\n",
    "facts = pd.concat((ff5, Mom, ST_Rev, LT_Rev), axis=1).dropna()"
   ],
   "metadata": {
    "collapsed": false,
    "pycharm": {
     "name": "#%%\n"
    }
   }
  },
  {
   "cell_type": "code",
   "execution_count": 52,
   "outputs": [
    {
     "data": {
      "text/plain": "             Meta       SPY  Mkt-RF     SMB     HML     RMW     CMA      RF  \\\nDate                                                                          \n2012-06  0.050676  0.040581  0.0389  0.0081  0.0059 -0.0107  0.0044  0.0000   \n2012-07 -0.301929  0.011830  0.0079 -0.0276 -0.0012  0.0113  0.0003  0.0000   \n2012-08 -0.168125  0.025053  0.0255  0.0045  0.0130 -0.0133 -0.0088  0.0001   \n2012-09  0.199336  0.025351  0.0273  0.0064  0.0158 -0.0151  0.0151  0.0001   \n2012-10 -0.025392 -0.018198 -0.0176 -0.0091  0.0356 -0.0134  0.0255  0.0001   \n...           ...       ...     ...     ...     ...     ...     ...     ...   \n2022-01 -0.068649 -0.052741 -0.0625 -0.0395  0.1274  0.0073  0.0773  0.0000   \n2022-02 -0.326342 -0.029517 -0.0229  0.0290  0.0309 -0.0212  0.0299  0.0000   \n2022-03  0.053689  0.037590  0.0306 -0.0214 -0.0182 -0.0132  0.0324  0.0000   \n2022-04 -0.098444 -0.087769 -0.0945 -0.0038  0.0616  0.0351  0.0587  0.0000   \n2022-05 -0.034070  0.002257 -0.0034  0.0002  0.0838  0.0161  0.0382  0.0003   \n\n         Mom     ST_Rev  LT_Rev   Meta-RF    SPY-RF  \nDate                                                 \n2012-06 -0.0106 -0.0079  0.0166  0.050676  0.040581  \n2012-07  0.0302  0.0148 -0.0210 -0.301929  0.011830  \n2012-08 -0.0237  0.0303  0.0187 -0.168225  0.024953  \n2012-09 -0.0114 -0.0019  0.0179  0.199236  0.025251  \n2012-10  0.0014  0.0025  0.0106 -0.025492 -0.018298  \n...         ...     ...     ...       ...       ...  \n2022-01 -0.0250 -0.0466  0.1187 -0.068649 -0.052741  \n2022-02  0.0175 -0.0330  0.0525 -0.326342 -0.029517  \n2022-03  0.0298  0.0002  0.0141  0.053689  0.037590  \n2022-04  0.0488 -0.0199  0.0701 -0.098444 -0.087769  \n2022-05  0.0247 -0.0203  0.0579 -0.034370  0.001957  \n\n[120 rows x 13 columns]",
      "text/html": "<div>\n<style scoped>\n    .dataframe tbody tr th:only-of-type {\n        vertical-align: middle;\n    }\n\n    .dataframe tbody tr th {\n        vertical-align: top;\n    }\n\n    .dataframe thead th {\n        text-align: right;\n    }\n</style>\n<table border=\"1\" class=\"dataframe\">\n  <thead>\n    <tr style=\"text-align: right;\">\n      <th></th>\n      <th>Meta</th>\n      <th>SPY</th>\n      <th>Mkt-RF</th>\n      <th>SMB</th>\n      <th>HML</th>\n      <th>RMW</th>\n      <th>CMA</th>\n      <th>RF</th>\n      <th>Mom</th>\n      <th>ST_Rev</th>\n      <th>LT_Rev</th>\n      <th>Meta-RF</th>\n      <th>SPY-RF</th>\n    </tr>\n    <tr>\n      <th>Date</th>\n      <th></th>\n      <th></th>\n      <th></th>\n      <th></th>\n      <th></th>\n      <th></th>\n      <th></th>\n      <th></th>\n      <th></th>\n      <th></th>\n      <th></th>\n      <th></th>\n      <th></th>\n    </tr>\n  </thead>\n  <tbody>\n    <tr>\n      <th>2012-06</th>\n      <td>0.050676</td>\n      <td>0.040581</td>\n      <td>0.0389</td>\n      <td>0.0081</td>\n      <td>0.0059</td>\n      <td>-0.0107</td>\n      <td>0.0044</td>\n      <td>0.0000</td>\n      <td>-0.0106</td>\n      <td>-0.0079</td>\n      <td>0.0166</td>\n      <td>0.050676</td>\n      <td>0.040581</td>\n    </tr>\n    <tr>\n      <th>2012-07</th>\n      <td>-0.301929</td>\n      <td>0.011830</td>\n      <td>0.0079</td>\n      <td>-0.0276</td>\n      <td>-0.0012</td>\n      <td>0.0113</td>\n      <td>0.0003</td>\n      <td>0.0000</td>\n      <td>0.0302</td>\n      <td>0.0148</td>\n      <td>-0.0210</td>\n      <td>-0.301929</td>\n      <td>0.011830</td>\n    </tr>\n    <tr>\n      <th>2012-08</th>\n      <td>-0.168125</td>\n      <td>0.025053</td>\n      <td>0.0255</td>\n      <td>0.0045</td>\n      <td>0.0130</td>\n      <td>-0.0133</td>\n      <td>-0.0088</td>\n      <td>0.0001</td>\n      <td>-0.0237</td>\n      <td>0.0303</td>\n      <td>0.0187</td>\n      <td>-0.168225</td>\n      <td>0.024953</td>\n    </tr>\n    <tr>\n      <th>2012-09</th>\n      <td>0.199336</td>\n      <td>0.025351</td>\n      <td>0.0273</td>\n      <td>0.0064</td>\n      <td>0.0158</td>\n      <td>-0.0151</td>\n      <td>0.0151</td>\n      <td>0.0001</td>\n      <td>-0.0114</td>\n      <td>-0.0019</td>\n      <td>0.0179</td>\n      <td>0.199236</td>\n      <td>0.025251</td>\n    </tr>\n    <tr>\n      <th>2012-10</th>\n      <td>-0.025392</td>\n      <td>-0.018198</td>\n      <td>-0.0176</td>\n      <td>-0.0091</td>\n      <td>0.0356</td>\n      <td>-0.0134</td>\n      <td>0.0255</td>\n      <td>0.0001</td>\n      <td>0.0014</td>\n      <td>0.0025</td>\n      <td>0.0106</td>\n      <td>-0.025492</td>\n      <td>-0.018298</td>\n    </tr>\n    <tr>\n      <th>...</th>\n      <td>...</td>\n      <td>...</td>\n      <td>...</td>\n      <td>...</td>\n      <td>...</td>\n      <td>...</td>\n      <td>...</td>\n      <td>...</td>\n      <td>...</td>\n      <td>...</td>\n      <td>...</td>\n      <td>...</td>\n      <td>...</td>\n    </tr>\n    <tr>\n      <th>2022-01</th>\n      <td>-0.068649</td>\n      <td>-0.052741</td>\n      <td>-0.0625</td>\n      <td>-0.0395</td>\n      <td>0.1274</td>\n      <td>0.0073</td>\n      <td>0.0773</td>\n      <td>0.0000</td>\n      <td>-0.0250</td>\n      <td>-0.0466</td>\n      <td>0.1187</td>\n      <td>-0.068649</td>\n      <td>-0.052741</td>\n    </tr>\n    <tr>\n      <th>2022-02</th>\n      <td>-0.326342</td>\n      <td>-0.029517</td>\n      <td>-0.0229</td>\n      <td>0.0290</td>\n      <td>0.0309</td>\n      <td>-0.0212</td>\n      <td>0.0299</td>\n      <td>0.0000</td>\n      <td>0.0175</td>\n      <td>-0.0330</td>\n      <td>0.0525</td>\n      <td>-0.326342</td>\n      <td>-0.029517</td>\n    </tr>\n    <tr>\n      <th>2022-03</th>\n      <td>0.053689</td>\n      <td>0.037590</td>\n      <td>0.0306</td>\n      <td>-0.0214</td>\n      <td>-0.0182</td>\n      <td>-0.0132</td>\n      <td>0.0324</td>\n      <td>0.0000</td>\n      <td>0.0298</td>\n      <td>0.0002</td>\n      <td>0.0141</td>\n      <td>0.053689</td>\n      <td>0.037590</td>\n    </tr>\n    <tr>\n      <th>2022-04</th>\n      <td>-0.098444</td>\n      <td>-0.087769</td>\n      <td>-0.0945</td>\n      <td>-0.0038</td>\n      <td>0.0616</td>\n      <td>0.0351</td>\n      <td>0.0587</td>\n      <td>0.0000</td>\n      <td>0.0488</td>\n      <td>-0.0199</td>\n      <td>0.0701</td>\n      <td>-0.098444</td>\n      <td>-0.087769</td>\n    </tr>\n    <tr>\n      <th>2022-05</th>\n      <td>-0.034070</td>\n      <td>0.002257</td>\n      <td>-0.0034</td>\n      <td>0.0002</td>\n      <td>0.0838</td>\n      <td>0.0161</td>\n      <td>0.0382</td>\n      <td>0.0003</td>\n      <td>0.0247</td>\n      <td>-0.0203</td>\n      <td>0.0579</td>\n      <td>-0.034370</td>\n      <td>0.001957</td>\n    </tr>\n  </tbody>\n</table>\n<p>120 rows × 13 columns</p>\n</div>"
     },
     "execution_count": 52,
     "metadata": {},
     "output_type": "execute_result"
    }
   ],
   "source": [
    "# Example\n",
    "ticker = 'Meta'\n",
    "tick = 'Meta-RF'\n",
    "TICKER = pdr(ticker, 'yahoo', start=1970)\n",
    "TICKER = TICKER['Adj Close'].resample('M').last().pct_change().dropna()\n",
    "TICKER.name = ticker\n",
    "TICKER.index = TICKER.index.to_period('M')\n",
    "ret = TICKER\n",
    "\n",
    "# etfs: 'SPY = S&P 500 ETF', 'IVE = S&P 500 Value ETF', 'IVW = S&P 500 Growth ETF', 'IWB = Russell 1000 ETF', 'IWD = Russell 1000 Value ETF', 'IWF = Russell 1000 Growth ETF', 'IWM = Russell 2000 ETF', 'IWN = Russell 2000 Value              ETF', 'IWO = Russell 2000 Growth ETF', IWV = Russell 3000 ETF'\n",
    "benchmark = pdr('SPY', 'yahoo', start=1970)\n",
    "benchmark = benchmark['Adj Close'].resample('M').last().pct_change().dropna()\n",
    "benchmark.name = 'SPY'\n",
    "benchmark.index = benchmark.index.to_period('M')\n",
    "\n",
    "df = pd.concat((ret, benchmark, facts), axis=1).dropna()\n",
    "df['Meta-RF'] = df.Meta - df.RF\n",
    "df['SPY-RF'] = df.SPY - df.RF\n",
    "df"
   ],
   "metadata": {
    "collapsed": false,
    "pycharm": {
     "name": "#%%\n"
    }
   }
  },
  {
   "cell_type": "code",
   "execution_count": 53,
   "outputs": [
    {
     "name": "stdout",
     "output_type": "stream",
     "text": [
      "    mean std err t stat p value info ratio\n",
      "0  91.51   86.01   1.06    0.29      9.71%\n",
      "The active return of Meta in May, 2022 is 1.77%\n",
      "The benchmark return of Meta in May, 2022 is 3.80%\n"
     ]
    }
   ],
   "source": [
    "# Simple Benchmark\n",
    "# active return = return - benchmark return\n",
    "# std of the active return: tracking error\n",
    "# information ratio = mean / std\n",
    "xrets = 100 * 100 * (df['Meta'] - df['SPY'])    # basis points per month\n",
    "raw_mn = xrets.mean()\n",
    "raw_sd = xrets.std()\n",
    "raw_info = raw_mn / raw_sd\n",
    "raw_t, raw_p = ttest(xrets, 0)\n",
    "\n",
    "tbl = pd.DataFrame(index=[0], columns=['mean', 'std err', 't stat', 'p value', 'info ratio'])\n",
    "for stat, col in zip([raw_mn, raw_mn/raw_t, raw_t, raw_p], ['mean', 'std err', 't stat', 'p value']):\n",
    "    tbl[col] = f'{stat:.2f}'\n",
    "tbl['info ratio'] = f'{raw_info:.2%}'\n",
    "\n",
    "contribs = pd.DataFrame(dtype=float, index=df.index, columns=['Active', 'Benchmark'])\n",
    "contribs['Benchmark'] = df['SPY']\n",
    "contribs['Active'] = df['Meta'] - df['SPY']\n",
    "cum = (1 + contribs).cumprod()\n",
    "\n",
    "print(tbl)\n",
    "print('The active return of Meta in May, 2022 is {:.2%}'.format(cum['Active']['2022-05']/100))\n",
    "print('The benchmark return of Meta in May, 2022 is {:.2%}'.format(cum['Benchmark']['2022-05']/100))"
   ],
   "metadata": {
    "collapsed": false,
    "pycharm": {
     "name": "#%%\n"
    }
   }
  },
  {
   "cell_type": "code",
   "execution_count": 54,
   "outputs": [
    {
     "name": "stdout",
     "output_type": "stream",
     "text": [
      "         coef  std err  t stat  p value info ratio\n",
      "alpha   68.19    89.81    0.76     0.45      7.23%\n",
      "SPY-RF   1.20     0.22    5.39     0.00           \n",
      "The monthly benchmark excess return in February, 2022 is -2.95%\n",
      "The monthly excess return in February, 2022 is -32.63%\n"
     ]
    }
   ],
   "source": [
    "# Beta-adjusted Benchmark\n",
    "# active return = return in excess of the beta-adjusted benchmark return\n",
    "result = sm.OLS(df[tick], sm.add_constant(df['SPY-RF'])).fit()\n",
    "tbl = (result.summary2().tables[1])\n",
    "tbl = tbl[tbl.columns[:-2]]\n",
    "tbl.columns = ['coef', 'std err', 't stat', 'p value']\n",
    "tbl.index = ['alpha', 'SPY-RF']\n",
    "tbl.loc['alpha', 'coef'] = 100 * 100 * tbl.loc['alpha', 'coef']\n",
    "tbl.loc['alpha', 'std err'] = 100 * 100 * tbl.loc['alpha', 'std err']\n",
    "tbl = tbl.round(2)\n",
    "tbl['info ratio'] = ''\n",
    "info = result.params['const'] / np.sqrt(result.mse_resid)\n",
    "tbl.loc['alpha', 'info ratio'] = f'{info:.2%}'\n",
    "print(tbl)\n",
    "print('The monthly benchmark excess return in February, 2022 is {:.2%}'.format(df['SPY-RF']['2022-02']))\n",
    "print('The monthly excess return in February, 2022 is {:.2%}'.format(df['Meta-RF']['2022-02']))"
   ],
   "metadata": {
    "collapsed": false,
    "pycharm": {
     "name": "#%%\n"
    }
   }
  },
  {
   "cell_type": "code",
   "execution_count": null,
   "outputs": [],
   "source": [],
   "metadata": {
    "collapsed": false,
    "pycharm": {
     "name": "#%%\n"
    }
   }
  }
 ],
 "metadata": {
  "kernelspec": {
   "display_name": "Python 3",
   "language": "python",
   "name": "python3"
  },
  "language_info": {
   "codemirror_mode": {
    "name": "ipython",
    "version": 2
   },
   "file_extension": ".py",
   "mimetype": "text/x-python",
   "name": "python",
   "nbconvert_exporter": "python",
   "pygments_lexer": "ipython2",
   "version": "2.7.6"
  }
 },
 "nbformat": 4,
 "nbformat_minor": 0
}