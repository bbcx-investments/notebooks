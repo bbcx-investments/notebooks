{
  "cells": [
    {
      "cell_type": "markdown",
      "metadata": {
        "id": "view-in-github",
        "colab_type": "text"
      },
      "source": [
        "<a href=\"https://colab.research.google.com/github/bbcx-investments/notebooks/blob/main/portfolios/assets_classes.ipynb\" target=\"_parent\"><img src=\"https://colab.research.google.com/assets/colab-badge.svg\" alt=\"Open In Colab\"/></a>"
      ]
    },
    {
      "cell_type": "code",
      "execution_count": null,
      "outputs": [
        {
          "data": {
            "text/plain": "Symbols       SPY       IWM       VWO       IEF       LQD       IYR       GLD  \\\nDate                                                                            \n2007-04  0.044296  0.016237  0.038038  0.006066  0.008915  0.002933  0.020535   \n2007-05  0.033920  0.043721  0.066569 -0.013936 -0.012308  0.001521 -0.023103   \n2007-06 -0.014621 -0.014382  0.045465 -0.004677 -0.008100 -0.087104 -0.019378   \n2007-07 -0.031310 -0.069964  0.035162  0.022568 -0.008241 -0.090674  0.023650   \n2007-08  0.012833  0.021271 -0.000106  0.022631  0.023862  0.052557  0.011096   \n...           ...       ...       ...       ...       ...       ...       ...   \n2021-08  0.029760  0.022031  0.021913 -0.003944 -0.003440  0.019397 -0.000766   \n2021-09 -0.046605 -0.028804 -0.033620 -0.015971 -0.015074 -0.056269 -0.032235   \n2021-10  0.070163  0.042514  0.012997 -0.004429  0.005310  0.072761  0.014797   \n2021-11 -0.008035 -0.043324 -0.029017  0.010921 -0.001186 -0.024126 -0.006901   \n2021-12  0.046248  0.022715  0.015402 -0.005240 -0.000341  0.094692  0.032991   \n\nSymbols       UUP  \nDate               \n2007-04 -0.012102  \n2007-05  0.017558  \n2007-06 -0.001605  \n2007-07 -0.009244  \n2007-08  0.005680  \n...           ...  \n2021-08  0.004845  \n2021-09  0.016874  \n2021-10 -0.002371  \n2021-11  0.017822  \n2021-12 -0.002724  \n\n[177 rows x 8 columns]",
            "text/html": "<div>\n<style scoped>\n    .dataframe tbody tr th:only-of-type {\n        vertical-align: middle;\n    }\n\n    .dataframe tbody tr th {\n        vertical-align: top;\n    }\n\n    .dataframe thead th {\n        text-align: right;\n    }\n</style>\n<table border=\"1\" class=\"dataframe\">\n  <thead>\n    <tr style=\"text-align: right;\">\n      <th>Symbols</th>\n      <th>SPY</th>\n      <th>IWM</th>\n      <th>VWO</th>\n      <th>IEF</th>\n      <th>LQD</th>\n      <th>IYR</th>\n      <th>GLD</th>\n      <th>UUP</th>\n    </tr>\n    <tr>\n      <th>Date</th>\n      <th></th>\n      <th></th>\n      <th></th>\n      <th></th>\n      <th></th>\n      <th></th>\n      <th></th>\n      <th></th>\n    </tr>\n  </thead>\n  <tbody>\n    <tr>\n      <th>2007-04</th>\n      <td>0.044296</td>\n      <td>0.016237</td>\n      <td>0.038038</td>\n      <td>0.006066</td>\n      <td>0.008915</td>\n      <td>0.002933</td>\n      <td>0.020535</td>\n      <td>-0.012102</td>\n    </tr>\n    <tr>\n      <th>2007-05</th>\n      <td>0.033920</td>\n      <td>0.043721</td>\n      <td>0.066569</td>\n      <td>-0.013936</td>\n      <td>-0.012308</td>\n      <td>0.001521</td>\n      <td>-0.023103</td>\n      <td>0.017558</td>\n    </tr>\n    <tr>\n      <th>2007-06</th>\n      <td>-0.014621</td>\n      <td>-0.014382</td>\n      <td>0.045465</td>\n      <td>-0.004677</td>\n      <td>-0.008100</td>\n      <td>-0.087104</td>\n      <td>-0.019378</td>\n      <td>-0.001605</td>\n    </tr>\n    <tr>\n      <th>2007-07</th>\n      <td>-0.031310</td>\n      <td>-0.069964</td>\n      <td>0.035162</td>\n      <td>0.022568</td>\n      <td>-0.008241</td>\n      <td>-0.090674</td>\n      <td>0.023650</td>\n      <td>-0.009244</td>\n    </tr>\n    <tr>\n      <th>2007-08</th>\n      <td>0.012833</td>\n      <td>0.021271</td>\n      <td>-0.000106</td>\n      <td>0.022631</td>\n      <td>0.023862</td>\n      <td>0.052557</td>\n      <td>0.011096</td>\n      <td>0.005680</td>\n    </tr>\n    <tr>\n      <th>...</th>\n      <td>...</td>\n      <td>...</td>\n      <td>...</td>\n      <td>...</td>\n      <td>...</td>\n      <td>...</td>\n      <td>...</td>\n      <td>...</td>\n    </tr>\n    <tr>\n      <th>2021-08</th>\n      <td>0.029760</td>\n      <td>0.022031</td>\n      <td>0.021913</td>\n      <td>-0.003944</td>\n      <td>-0.003440</td>\n      <td>0.019397</td>\n      <td>-0.000766</td>\n      <td>0.004845</td>\n    </tr>\n    <tr>\n      <th>2021-09</th>\n      <td>-0.046605</td>\n      <td>-0.028804</td>\n      <td>-0.033620</td>\n      <td>-0.015971</td>\n      <td>-0.015074</td>\n      <td>-0.056269</td>\n      <td>-0.032235</td>\n      <td>0.016874</td>\n    </tr>\n    <tr>\n      <th>2021-10</th>\n      <td>0.070163</td>\n      <td>0.042514</td>\n      <td>0.012997</td>\n      <td>-0.004429</td>\n      <td>0.005310</td>\n      <td>0.072761</td>\n      <td>0.014797</td>\n      <td>-0.002371</td>\n    </tr>\n    <tr>\n      <th>2021-11</th>\n      <td>-0.008035</td>\n      <td>-0.043324</td>\n      <td>-0.029017</td>\n      <td>0.010921</td>\n      <td>-0.001186</td>\n      <td>-0.024126</td>\n      <td>-0.006901</td>\n      <td>0.017822</td>\n    </tr>\n    <tr>\n      <th>2021-12</th>\n      <td>0.046248</td>\n      <td>0.022715</td>\n      <td>0.015402</td>\n      <td>-0.005240</td>\n      <td>-0.000341</td>\n      <td>0.094692</td>\n      <td>0.032991</td>\n      <td>-0.002724</td>\n    </tr>\n  </tbody>\n</table>\n<p>177 rows × 8 columns</p>\n</div>"
          },
          "execution_count": 2,
          "metadata": {},
          "output_type": "execute_result"
        }
      ],
      "source": [
        "import pandas as pd\n",
        "from pandas_datareader import DataReader as pdr\n",
        "\n",
        "# Example tickers\n",
        "tickers = ['SPY', 'IWM', 'VWO', 'IEF', 'LQD', 'IYR', 'GLD', 'UUP']\n",
        "\n",
        "# Example date range\n",
        "minyear = '1970'\n",
        "maxyear = '2022'\n",
        "\n",
        "# read monthly return data from yahoo, select the date range\n",
        "df = pdr(tickers, \"yahoo\", 1970)\n",
        "DATA = df[\"Adj Close\"].resample(\"M\").last().pct_change().dropna().iloc[:-1]\n",
        "DATA.index = DATA.index.to_period(\"M\").astype(str)\n",
        "df = DATA[(DATA.index>=minyear) & (DATA.index<maxyear)]\n",
        "\n",
        "df.head()"
      ],
      "metadata": {
        "pycharm": {
          "name": "#%%\n"
        },
        "id": "f1D3b1oay96y",
        "outputId": "f7ee75ea-c228-4f78-fae0-685d9babcf3d"
      }
    },
    {
      "cell_type": "code",
      "execution_count": null,
      "outputs": [
        {
          "data": {
            "text/plain": "Symbols       SPY       IWM       VWO       IEF       LQD       IYR       GLD  \\\nSymbols                                                                         \nSPY      1.000000  0.901711  0.773719 -0.317371  0.339996  0.758475  0.061142   \nIWM      0.901711  1.000000  0.726693 -0.395200  0.271922  0.741398  0.002706   \nVWO      0.773719  0.726693  1.000000 -0.228019  0.388498  0.631564  0.273529   \nIEF     -0.317371 -0.395200 -0.228019  1.000000  0.481053 -0.065264  0.344580   \nLQD      0.339996  0.271922  0.388498  0.481053  1.000000  0.462002  0.288461   \nIYR      0.758475  0.741398  0.631564 -0.065264  0.462002  1.000000  0.109602   \nGLD      0.061142  0.002706  0.273529  0.344580  0.288461  0.109602  1.000000   \nUUP     -0.467073 -0.383245 -0.653959 -0.027059 -0.346342 -0.380116 -0.450407   \n\nSymbols       UUP  \nSymbols            \nSPY     -0.467073  \nIWM     -0.383245  \nVWO     -0.653959  \nIEF     -0.027059  \nLQD     -0.346342  \nIYR     -0.380116  \nGLD     -0.450407  \nUUP      1.000000  ",
            "text/html": "<div>\n<style scoped>\n    .dataframe tbody tr th:only-of-type {\n        vertical-align: middle;\n    }\n\n    .dataframe tbody tr th {\n        vertical-align: top;\n    }\n\n    .dataframe thead th {\n        text-align: right;\n    }\n</style>\n<table border=\"1\" class=\"dataframe\">\n  <thead>\n    <tr style=\"text-align: right;\">\n      <th>Symbols</th>\n      <th>SPY</th>\n      <th>IWM</th>\n      <th>VWO</th>\n      <th>IEF</th>\n      <th>LQD</th>\n      <th>IYR</th>\n      <th>GLD</th>\n      <th>UUP</th>\n    </tr>\n    <tr>\n      <th>Symbols</th>\n      <th></th>\n      <th></th>\n      <th></th>\n      <th></th>\n      <th></th>\n      <th></th>\n      <th></th>\n      <th></th>\n    </tr>\n  </thead>\n  <tbody>\n    <tr>\n      <th>SPY</th>\n      <td>1.000000</td>\n      <td>0.901711</td>\n      <td>0.773719</td>\n      <td>-0.317371</td>\n      <td>0.339996</td>\n      <td>0.758475</td>\n      <td>0.061142</td>\n      <td>-0.467073</td>\n    </tr>\n    <tr>\n      <th>IWM</th>\n      <td>0.901711</td>\n      <td>1.000000</td>\n      <td>0.726693</td>\n      <td>-0.395200</td>\n      <td>0.271922</td>\n      <td>0.741398</td>\n      <td>0.002706</td>\n      <td>-0.383245</td>\n    </tr>\n    <tr>\n      <th>VWO</th>\n      <td>0.773719</td>\n      <td>0.726693</td>\n      <td>1.000000</td>\n      <td>-0.228019</td>\n      <td>0.388498</td>\n      <td>0.631564</td>\n      <td>0.273529</td>\n      <td>-0.653959</td>\n    </tr>\n    <tr>\n      <th>IEF</th>\n      <td>-0.317371</td>\n      <td>-0.395200</td>\n      <td>-0.228019</td>\n      <td>1.000000</td>\n      <td>0.481053</td>\n      <td>-0.065264</td>\n      <td>0.344580</td>\n      <td>-0.027059</td>\n    </tr>\n    <tr>\n      <th>LQD</th>\n      <td>0.339996</td>\n      <td>0.271922</td>\n      <td>0.388498</td>\n      <td>0.481053</td>\n      <td>1.000000</td>\n      <td>0.462002</td>\n      <td>0.288461</td>\n      <td>-0.346342</td>\n    </tr>\n    <tr>\n      <th>IYR</th>\n      <td>0.758475</td>\n      <td>0.741398</td>\n      <td>0.631564</td>\n      <td>-0.065264</td>\n      <td>0.462002</td>\n      <td>1.000000</td>\n      <td>0.109602</td>\n      <td>-0.380116</td>\n    </tr>\n    <tr>\n      <th>GLD</th>\n      <td>0.061142</td>\n      <td>0.002706</td>\n      <td>0.273529</td>\n      <td>0.344580</td>\n      <td>0.288461</td>\n      <td>0.109602</td>\n      <td>1.000000</td>\n      <td>-0.450407</td>\n    </tr>\n    <tr>\n      <th>UUP</th>\n      <td>-0.467073</td>\n      <td>-0.383245</td>\n      <td>-0.653959</td>\n      <td>-0.027059</td>\n      <td>-0.346342</td>\n      <td>-0.380116</td>\n      <td>-0.450407</td>\n      <td>1.000000</td>\n    </tr>\n  </tbody>\n</table>\n</div>"
          },
          "execution_count": 3,
          "metadata": {},
          "output_type": "execute_result"
        }
      ],
      "source": [
        "# correlation matrix\n",
        "df.corr()"
      ],
      "metadata": {
        "pycharm": {
          "name": "#%%\n"
        },
        "id": "XahSb9z_y960",
        "outputId": "180e0526-a6f1-4048-f179-8ea5b1439747"
      }
    },
    {
      "cell_type": "code",
      "execution_count": null,
      "outputs": [],
      "source": [
        ""
      ],
      "metadata": {
        "pycharm": {
          "name": "#%%\n"
        },
        "id": "GNFcRZmuy961"
      }
    }
  ],
  "metadata": {
    "kernelspec": {
      "display_name": "Python 3",
      "language": "python",
      "name": "python3"
    },
    "language_info": {
      "codemirror_mode": {
        "name": "ipython",
        "version": 2
      },
      "file_extension": ".py",
      "mimetype": "text/x-python",
      "name": "python",
      "nbconvert_exporter": "python",
      "pygments_lexer": "ipython2",
      "version": "2.7.6"
    },
    "colab": {
      "name": "assets_classes.ipynb",
      "provenance": [],
      "include_colab_link": true
    }
  },
  "nbformat": 4,
  "nbformat_minor": 0
}