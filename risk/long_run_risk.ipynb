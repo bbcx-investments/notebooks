{
  "cells": [
    {
      "cell_type": "markdown",
      "metadata": {
        "id": "view-in-github",
        "colab_type": "text"
      },
      "source": [
        "<a href=\"https://colab.research.google.com/github/bbcx-investments/notebooks/blob/main/risk/long_run_risk.ipynb\" target=\"_parent\"><img src=\"https://colab.research.google.com/assets/colab-badge.svg\" alt=\"Open In Colab\"/></a>"
      ]
    },
    {
      "cell_type": "code",
      "execution_count": null,
      "outputs": [
        {
          "data": {
            "text/plain": "       Return 1  Return 2\n0.01   0.630751  1.042260\n0.02   0.751031  1.190405\n0.03   0.817654  1.288720\n0.04   0.887436  1.365506\n0.05   0.951474  1.461783\n...         ...       ...\n0.95   7.367132  5.970188\n0.96   7.727117  6.236444\n0.97   8.353591  6.595471\n0.98   9.083610  7.270782\n0.99  11.074890  7.905070\n\n[99 rows x 2 columns]",
            "text/html": "<div>\n<style scoped>\n    .dataframe tbody tr th:only-of-type {\n        vertical-align: middle;\n    }\n\n    .dataframe tbody tr th {\n        vertical-align: top;\n    }\n\n    .dataframe thead th {\n        text-align: right;\n    }\n</style>\n<table border=\"1\" class=\"dataframe\">\n  <thead>\n    <tr style=\"text-align: right;\">\n      <th></th>\n      <th>Return 1</th>\n      <th>Return 2</th>\n    </tr>\n  </thead>\n  <tbody>\n    <tr>\n      <th>0.01</th>\n      <td>0.630751</td>\n      <td>1.042260</td>\n    </tr>\n    <tr>\n      <th>0.02</th>\n      <td>0.751031</td>\n      <td>1.190405</td>\n    </tr>\n    <tr>\n      <th>0.03</th>\n      <td>0.817654</td>\n      <td>1.288720</td>\n    </tr>\n    <tr>\n      <th>0.04</th>\n      <td>0.887436</td>\n      <td>1.365506</td>\n    </tr>\n    <tr>\n      <th>0.05</th>\n      <td>0.951474</td>\n      <td>1.461783</td>\n    </tr>\n    <tr>\n      <th>...</th>\n      <td>...</td>\n      <td>...</td>\n    </tr>\n    <tr>\n      <th>0.95</th>\n      <td>7.367132</td>\n      <td>5.970188</td>\n    </tr>\n    <tr>\n      <th>0.96</th>\n      <td>7.727117</td>\n      <td>6.236444</td>\n    </tr>\n    <tr>\n      <th>0.97</th>\n      <td>8.353591</td>\n      <td>6.595471</td>\n    </tr>\n    <tr>\n      <th>0.98</th>\n      <td>9.083610</td>\n      <td>7.270782</td>\n    </tr>\n    <tr>\n      <th>0.99</th>\n      <td>11.074890</td>\n      <td>7.905070</td>\n    </tr>\n  </tbody>\n</table>\n<p>99 rows × 2 columns</p>\n</div>"
          },
          "execution_count": 1,
          "metadata": {},
          "output_type": "execute_result"
        }
      ],
      "source": [
        "from scipy.stats import norm\n",
        "import pandas as pd\n",
        "\n",
        "numsims = 1000  # number of simulations\n",
        "grid = [i / 100 for i in range(1, 100)]\n",
        "\n",
        "T  = 20         # example time period\n",
        "\n",
        "# First return\n",
        "mna = 0.06       # example mean\n",
        "sda = 0.15       # example standard deviation\n",
        "\n",
        "# Second return\n",
        "mnb = 0.06       # example mean\n",
        "sdb = 0.10       # example standard deviation\n",
        "\n",
        "\n",
        "rva = norm(loc=mna, scale=sda)\n",
        "rvb = norm(loc=mnb, scale=sdb)\n",
        "df = None\n",
        "qs = None\n",
        "for rv in [rva, rvb]:\n",
        "    ret = pd.DataFrame(rv.rvs(T * numsims).reshape((T, numsims)))\n",
        "    d = (1 + ret).prod()\n",
        "    q = d.describe(percentiles=[0.1, 0.25, 0.5, 0.75, 0.9])\n",
        "    qs = pd.concat((qs, q), axis=1)\n",
        "    df = pd.concat((df, d.quantile(grid)), axis=1)\n",
        "df.columns = [\"Return 1\", \"Return 2\"]\n",
        "\n",
        "df"
      ],
      "metadata": {
        "pycharm": {
          "name": "#%%\n"
        },
        "id": "YYYM99DRI6CG",
        "outputId": "78ffd641-3da3-4767-f590-b52bd976a1e2"
      }
    },
    {
      "cell_type": "code",
      "execution_count": null,
      "outputs": [
        {
          "data": {
            "text/plain": "         Return 1  Return 2\n0  mean      3.32      3.21\n1   std      2.28      1.48\n2   10%      1.16      1.68\n3   25%      1.75      2.13\n4   50%      2.79      2.93\n5   75%      4.29      3.95\n6   90%      6.02      5.06",
            "text/html": "<div>\n<style scoped>\n    .dataframe tbody tr th:only-of-type {\n        vertical-align: middle;\n    }\n\n    .dataframe tbody tr th {\n        vertical-align: top;\n    }\n\n    .dataframe thead th {\n        text-align: right;\n    }\n</style>\n<table border=\"1\" class=\"dataframe\">\n  <thead>\n    <tr style=\"text-align: right;\">\n      <th></th>\n      <th></th>\n      <th>Return 1</th>\n      <th>Return 2</th>\n    </tr>\n  </thead>\n  <tbody>\n    <tr>\n      <th>0</th>\n      <td>mean</td>\n      <td>3.32</td>\n      <td>3.21</td>\n    </tr>\n    <tr>\n      <th>1</th>\n      <td>std</td>\n      <td>2.28</td>\n      <td>1.48</td>\n    </tr>\n    <tr>\n      <th>2</th>\n      <td>10%</td>\n      <td>1.16</td>\n      <td>1.68</td>\n    </tr>\n    <tr>\n      <th>3</th>\n      <td>25%</td>\n      <td>1.75</td>\n      <td>2.13</td>\n    </tr>\n    <tr>\n      <th>4</th>\n      <td>50%</td>\n      <td>2.79</td>\n      <td>2.93</td>\n    </tr>\n    <tr>\n      <th>5</th>\n      <td>75%</td>\n      <td>4.29</td>\n      <td>3.95</td>\n    </tr>\n    <tr>\n      <th>6</th>\n      <td>90%</td>\n      <td>6.02</td>\n      <td>5.06</td>\n    </tr>\n  </tbody>\n</table>\n</div>"
          },
          "execution_count": 2,
          "metadata": {},
          "output_type": "execute_result"
        }
      ],
      "source": [
        "qs.columns = [\"Return 1\", \"Return 2\"]\n",
        "qs = qs.loc[[\"mean\", \"std\", \"10%\", \"25%\", \"50%\", \"75%\", \"90%\"]]\n",
        "qs.index.name = \"\"\n",
        "qs = qs.round(2).reset_index()\n",
        "qs.columns = [c for c in qs.columns]\n",
        "\n",
        "# describe the data\n",
        "qs"
      ],
      "metadata": {
        "pycharm": {
          "name": "#%%\n"
        },
        "id": "WKlxAvMnI6CJ",
        "outputId": "05bd674a-e037-4974-9a36-d68d96064517"
      }
    },
    {
      "cell_type": "code",
      "execution_count": null,
      "outputs": [],
      "source": [
        ""
      ],
      "metadata": {
        "pycharm": {
          "name": "#%%\n"
        },
        "id": "mcGVoOmJI6CK"
      }
    }
  ],
  "metadata": {
    "kernelspec": {
      "display_name": "Python 3",
      "language": "python",
      "name": "python3"
    },
    "language_info": {
      "codemirror_mode": {
        "name": "ipython",
        "version": 2
      },
      "file_extension": ".py",
      "mimetype": "text/x-python",
      "name": "python",
      "nbconvert_exporter": "python",
      "pygments_lexer": "ipython2",
      "version": "2.7.6"
    },
    "colab": {
      "name": "long_run_risk.ipynb",
      "provenance": [],
      "include_colab_link": true
    }
  },
  "nbformat": 4,
  "nbformat_minor": 0
}