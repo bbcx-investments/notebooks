{
  "cells": [
    {
      "cell_type": "markdown",
      "metadata": {
        "id": "view-in-github",
        "colab_type": "text"
      },
      "source": [
        "<a href=\"https://colab.research.google.com/github/bbcx-investments/notebooks/blob/main/risk/means.ipynb\" target=\"_parent\"><img src=\"https://colab.research.google.com/assets/colab-badge.svg\" alt=\"Open In Colab\"/></a>"
      ]
    },
    {
      "cell_type": "code",
      "execution_count": null,
      "outputs": [
        {
          "name": "stdout",
          "output_type": "stream",
          "text": [
            "Median value of (1 + arithmetic avg)**n is  3.19.\n",
            "Median value of (1 +  geometric avg)**n is  2.63.\n"
          ]
        }
      ],
      "source": [
        "import pandas as pd\n",
        "from scipy.stats import norm\n",
        "\n",
        "numsims = 5000\n",
        "\n",
        "mn = 0.06\n",
        "sd = 0.15\n",
        "T  = 20\n",
        "\n",
        "name = ''\n",
        "\n",
        "rv = norm(loc=mn, scale=sd)\n",
        "ret = pd.DataFrame(rv.rvs(T * 2 * numsims).reshape((T, 2 * numsims)))\n",
        "past = ret[ret.columns[:numsims]]\n",
        "futures =ret[ret.columns[numsims:]]\n",
        "\n",
        "arith = past.mean()\n",
        "geom = (1 + past).prod() ** (1 / T) - 1\n",
        "\n",
        "arith_forecast = (1 + arith) ** T\n",
        "geom_forecast = (1 + geom) ** T\n",
        "\n",
        "median_arith_forecast = arith_forecast.median()\n",
        "median_geom_forecast = geom_forecast.median()\n",
        "\n",
        "futures = (1 + futures).prod()\n",
        "mean = futures.mean()\n",
        "median = futures.median()\n",
        "\n",
        "print('Median value of (1 + arithmetic avg)**n is ', median_arith_forecast.round(2), end='.\\n')\n",
        "print('Median value of (1 +  geometric avg)**n is ', median_geom_forecast.round(2), end='.\\n')"
      ],
      "metadata": {
        "pycharm": {
          "name": "#%%\n"
        },
        "id": "KxXq_GACFhe3",
        "outputId": "fa0ec684-9164-46b3-8b00-9d4770e2cc3a"
      }
    },
    {
      "cell_type": "code",
      "execution_count": null,
      "outputs": [
        {
          "name": "stdout",
          "output_type": "stream",
          "text": [
            "Mean accumulation is  3.13.\n",
            "Median accumulation is  2.58.\n"
          ]
        }
      ],
      "source": [
        "print('Mean accumulation is ', mean.round(2), end='.\\n')\n",
        "print('Median accumulation is ', median.round(2), end='.\\n')"
      ],
      "metadata": {
        "pycharm": {
          "name": "#%%\n"
        },
        "id": "anak9MMCFhe5",
        "outputId": "a7ffe2b6-1b95-4f5e-9888-89c57d96205a"
      }
    },
    {
      "cell_type": "code",
      "execution_count": null,
      "outputs": [],
      "source": [
        ""
      ],
      "metadata": {
        "pycharm": {
          "name": "#%%\n"
        },
        "id": "Cmg4gkesFhe6"
      }
    }
  ],
  "metadata": {
    "kernelspec": {
      "display_name": "Python 3",
      "language": "python",
      "name": "python3"
    },
    "language_info": {
      "codemirror_mode": {
        "name": "ipython",
        "version": 2
      },
      "file_extension": ".py",
      "mimetype": "text/x-python",
      "name": "python",
      "nbconvert_exporter": "python",
      "pygments_lexer": "ipython2",
      "version": "2.7.6"
    },
    "colab": {
      "name": "means.ipynb",
      "provenance": [],
      "include_colab_link": true
    }
  },
  "nbformat": 4,
  "nbformat_minor": 0
}