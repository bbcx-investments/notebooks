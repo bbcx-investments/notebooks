{
  "nbformat": 4,
  "nbformat_minor": 0,
  "metadata": {
    "colab": {
      "name": "Untitled13.ipynb",
      "provenance": [],
      "authorship_tag": "ABX9TyO4XxL0kQ4CTjvs8DUhuDC3",
      "include_colab_link": true
    },
    "kernelspec": {
      "name": "python3",
      "display_name": "Python 3"
    },
    "language_info": {
      "name": "python"
    }
  },
  "cells": [
    {
      "cell_type": "markdown",
      "metadata": {
        "id": "view-in-github",
        "colab_type": "text"
      },
      "source": [
        "<a href=\"https://colab.research.google.com/github/bbcx-investments/notebooks/blob/main/risk/retirement_planning_sim.ipynb\" target=\"_parent\"><img src=\"https://colab.research.google.com/assets/colab-badge.svg\" alt=\"Open In Colab\"/></a>"
      ]
    },
    {
      "cell_type": "code",
      "execution_count": 1,
      "metadata": {
        "id": "uwWoyf7fLQUf"
      },
      "outputs": [],
      "source": [
        "import numpy as np\n",
        "import pandas as pd\n",
        "from scipy.stats import norm\n",
        "\n",
        "numsims = 10000\n",
        "\n",
        "# example data\n",
        "initial_balance = 250000\n",
        "years_saving = 30\n",
        "years_withdrawing = 30\n",
        "initial_saving = 10000\n",
        "saving_growth_rate = 0.02\n",
        "withdrawal = 100000\n",
        "mean = 0.06\n",
        "stdev = 0.1\n",
        "\n",
        "# total years\n",
        "T = years_saving + years_withdrawing\n",
        "\n",
        "# random returns\n",
        "rv = norm(loc=mean,scale=stdev)\n",
        "rets = pd.DataFrame(rv.rvs((T+1)*numsims).reshape(((T+1),numsims)))\n",
        "\n",
        "# only half year for first and last returns\n",
        "rets.iloc[0] = (1+rets.iloc[0])**0.5 - 1\n",
        "rets.iloc[-1] = (1+rets.iloc[-1])**0.5 - 1\n",
        "\n",
        "# empty dataframe to store annual account balance for each simulation\n",
        "# dates are 0, 0.5, 1.5, 2.5, ..., T-0.5, T\n",
        "# T+1 dates in total\n",
        "# initialize with initial balance\n",
        "balance = pd.DataFrame(dtype=float,index=range(T+2),columns=range(numsims))\n",
        "balance.iloc[0] = initial_balance\n",
        "\n",
        "# add return and saving at 0.5, 1.5, ..., years_saving-0.5\n",
        "saving = initial_saving\n",
        "for i in range(years_saving) :\n",
        "    balance.iloc[i+1] = balance.iloc[i]*(1+rets.iloc[i]) + saving\n",
        "    saving = saving*(1+saving_growth_rate)\n",
        "\n",
        "# add return and subtract withdrawal at years_saving+0.5, ..., T-0.5\n",
        "for i in range(years_saving,T) :\n",
        "    balance.iloc[i+1] = balance.iloc[i]*(1+rets.iloc[i]) - withdrawal\n",
        "\n",
        "# add final half-year return\n",
        "balance.iloc[-1] = balance.iloc[-2]*(1+rets.iloc[-1])\n",
        "\n",
        "# we only keep the final balance\n",
        "balance = balance.iloc[-1]\n",
        "\n",
        "# compute percentiles\n",
        "percentiles = balance.quantile([i/100 for i in range(1,100)])\n",
        "percentiles.index.name = 'percentage'\n",
        "\n",
        "# compute statistics and some percentiles\n",
        "stats = balance.describe(percentiles=[0.1,0.25,0.5,0.75,0.9])"
      ]
    },
    {
      "cell_type": "code",
      "source": [
        "percentiles"
      ],
      "metadata": {
        "colab": {
          "base_uri": "https://localhost:8080/"
        },
        "id": "hZZMxCMzbmAH",
        "outputId": "909e3b36-62a9-4c5b-9eee-87245f779c03"
      },
      "execution_count": 2,
      "outputs": [
        {
          "output_type": "execute_result",
          "data": {
            "text/plain": [
              "percentage\n",
              "0.01   -4.157329e+06\n",
              "0.02   -3.440308e+06\n",
              "0.03   -3.002394e+06\n",
              "0.04   -2.670394e+06\n",
              "0.05   -2.417534e+06\n",
              "            ...     \n",
              "0.95    2.219620e+07\n",
              "0.96    2.430027e+07\n",
              "0.97    2.739257e+07\n",
              "0.98    3.118044e+07\n",
              "0.99    3.962000e+07\n",
              "Name: 61, Length: 99, dtype: float64"
            ]
          },
          "metadata": {},
          "execution_count": 2
        }
      ]
    },
    {
      "cell_type": "code",
      "source": [
        "stats"
      ],
      "metadata": {
        "colab": {
          "base_uri": "https://localhost:8080/"
        },
        "id": "UFa0LwAwfAoR",
        "outputId": "d722d084-cb89-4261-ae6f-9284ac867da7"
      },
      "execution_count": 3,
      "outputs": [
        {
          "output_type": "execute_result",
          "data": {
            "text/plain": [
              "count    1.000000e+04\n",
              "mean     5.874308e+06\n",
              "std      8.803779e+06\n",
              "min     -9.225663e+06\n",
              "10%     -1.496889e+06\n",
              "25%      4.256912e+05\n",
              "50%      3.397389e+06\n",
              "75%      8.504214e+06\n",
              "90%      1.602053e+07\n",
              "max      1.321481e+08\n",
              "Name: 61, dtype: float64"
            ]
          },
          "metadata": {},
          "execution_count": 3
        }
      ]
    },
    {
      "cell_type": "code",
      "source": [
        ""
      ],
      "metadata": {
        "id": "g5l0LIRXfECG"
      },
      "execution_count": 3,
      "outputs": []
    }
  ]
}